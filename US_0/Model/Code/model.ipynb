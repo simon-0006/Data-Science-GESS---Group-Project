{
 "cells": [
  {
   "cell_type": "code",
   "execution_count": 69,
   "id": "85efd939",
   "metadata": {},
   "outputs": [],
   "source": [
    "import numpy as np\n",
    "import random\n",
    "\n",
    "import torch\n",
    "import torch.nn as nn\n",
    "import torch.nn.functional as F\n",
    "import torch.optim as optim\n",
    "from torch.utils.data import DataLoader, TensorDataset\n",
    "from sklearn.metrics import r2_score\n",
    "\n",
    "import matplotlib.pyplot as plt\n",
    "\n",
    "torch.manual_seed(42)\n",
    "random.seed(42)"
   ]
  },
  {
   "cell_type": "code",
   "execution_count": null,
   "id": "668e5c3b",
   "metadata": {},
   "outputs": [],
   "source": [
    "target = \"Median household income ($)\" # \"Owner-occupied [%]\""
   ]
  },
  {
   "cell_type": "code",
   "execution_count": 71,
   "id": "344bac65",
   "metadata": {},
   "outputs": [],
   "source": [
    "loaded_x = np.load(\"../../Data/Data/data_x_\" + target + \".npz\", allow_pickle=True)\n",
    "dict_x = {key: loaded_x[key] for key in loaded_x.files}\n",
    "\n",
    "loaded_y = np.load(\"../../Data/Data/data_y_\" + target + \".npz\", allow_pickle=True)\n",
    "dict_y = {key: loaded_y[key] for key in loaded_y.files}"
   ]
  },
  {
   "cell_type": "code",
   "execution_count": 72,
   "id": "51ef70c1",
   "metadata": {},
   "outputs": [
    {
     "name": "stdout",
     "output_type": "stream",
     "text": [
      "(7440, 3, 73) (7440,)\n",
      "(29712, 3, 73) (29712,)\n",
      "(37152, 3, 73) (37152,)\n"
     ]
    }
   ],
   "source": [
    "all_keys = list(dict_x.keys())\n",
    "random.shuffle(all_keys)\n",
    "\n",
    "split_index = int(len(all_keys) * 0.8)\n",
    "train_keys = all_keys[:split_index]\n",
    "valid_keys = all_keys[split_index:]\n",
    "\n",
    "data_train_x = np.vstack([dict_x[k] for k in train_keys]) \n",
    "data_valid_x = np.vstack([dict_x[k] for k in valid_keys])\n",
    "data_x = np.vstack([dict_x[k] for k in all_keys])\n",
    "\n",
    "data_train_y = np.concatenate([dict_y[k] for k in train_keys]) \n",
    "data_valid_y = np.concatenate([dict_y[k] for k in valid_keys]) \n",
    "data_y = np.concatenate([dict_y[k] for k in all_keys])\n",
    "\n",
    "print(data_valid_x.shape, data_valid_y.shape)\n",
    "print(data_train_x.shape, data_train_y.shape)\n",
    "print(data_x.shape, data_y.shape)"
   ]
  },
  {
   "cell_type": "code",
   "execution_count": 73,
   "id": "352ec98d",
   "metadata": {},
   "outputs": [],
   "source": [
    "data_train_x = torch.tensor(data_train_x, dtype=torch.float32)\n",
    "data_train_y = torch.tensor(data_train_y, dtype=torch.float32).unsqueeze(1)\n",
    "data_valid_x = torch.tensor(data_valid_x, dtype=torch.float32)\n",
    "data_valid_y = torch.tensor(data_valid_y, dtype=torch.float32).unsqueeze(1)\n",
    "data_x = torch.tensor(data_x, dtype=torch.float32)\n",
    "data_y = torch.tensor(data_y, dtype=torch.float32).unsqueeze(1)"
   ]
  },
  {
   "cell_type": "code",
   "execution_count": 74,
   "id": "55ba889a",
   "metadata": {},
   "outputs": [],
   "source": [
    "batch_size = data_train_x.shape[0]\n",
    "\n",
    "dataset_train = TensorDataset(data_train_x, data_train_y)\n",
    "dataloader_train = DataLoader(dataset_train, batch_size=batch_size, shuffle=True, num_workers=5) \n",
    "dataset_valid = TensorDataset(data_valid_x, data_valid_y)\n",
    "dataloader_valid = DataLoader(dataset_valid, batch_size=batch_size, shuffle=True, num_workers=5) "
   ]
  },
  {
   "cell_type": "code",
   "execution_count": 75,
   "id": "fe8ce45b",
   "metadata": {},
   "outputs": [],
   "source": [
    "class RNN_Regressor(nn.Module):\n",
    "    def __init__(self, input_size, output_size):\n",
    "        super().__init__()\n",
    "\n",
    "        lstm_hidden_size = 32\n",
    "        hidden_size = 4\n",
    "\n",
    "        self.lstm = nn.LSTM(input_size=input_size, hidden_size=lstm_hidden_size, batch_first=True)\n",
    "\n",
    "        self.dense1 = nn.Linear(lstm_hidden_size, hidden_size)\n",
    "        self.dense2 = nn.Linear(hidden_size, output_size)\n",
    "\n",
    "        \n",
    "\n",
    "    def forward(self, input):\n",
    "        x = F.dropout(input, p=0.35)\n",
    "\n",
    "        x, _ = self.lstm(x)\n",
    "        x = x[:, -1, :]\n",
    "\n",
    "        x = self.dense1(x)\n",
    "        x = F.leaky_relu(x)\n",
    "\n",
    "        x = self.dense2(x)\n",
    "        x = F.sigmoid(x)\n",
    "\n",
    "        return x"
   ]
  },
  {
   "cell_type": "code",
   "execution_count": 76,
   "id": "7cc1823e",
   "metadata": {},
   "outputs": [],
   "source": [
    "model = RNN_Regressor(data_train_x.shape[2], 1)\n",
    "\n",
    "optimizer = optim.Adam(model.parameters(), lr=0.01, weight_decay=0.00001)\n",
    "criterion = nn.MSELoss()\n",
    "\n",
    "history = {\n",
    "    \"train_loss\": [],\n",
    "    \"valid_loss\": []\n",
    "}"
   ]
  },
  {
   "cell_type": "code",
   "execution_count": 77,
   "id": "cef776ef",
   "metadata": {},
   "outputs": [
    {
     "name": "stdout",
     "output_type": "stream",
     "text": [
      "Epoch [1/200], Training Loss: 0.08589, Validation Loss: 0.07982\n",
      "Epoch [2/200], Training Loss: 0.08132, Validation Loss: 0.07542\n",
      "Epoch [3/200], Training Loss: 0.07676, Validation Loss: 0.06985\n",
      "Epoch [4/200], Training Loss: 0.07091, Validation Loss: 0.06324\n",
      "Epoch [5/200], Training Loss: 0.06392, Validation Loss: 0.05590\n",
      "Epoch [6/200], Training Loss: 0.05610, Validation Loss: 0.04790\n",
      "Epoch [7/200], Training Loss: 0.04750, Validation Loss: 0.03948\n",
      "Epoch [8/200], Training Loss: 0.03864, Validation Loss: 0.03126\n",
      "Epoch [9/200], Training Loss: 0.02991, Validation Loss: 0.02380\n",
      "Epoch [10/200], Training Loss: 0.02209, Validation Loss: 0.01772\n",
      "Epoch [11/200], Training Loss: 0.01588, Validation Loss: 0.01358\n",
      "Epoch [12/200], Training Loss: 0.01178, Validation Loss: 0.01163\n",
      "Epoch [13/200], Training Loss: 0.01012, Validation Loss: 0.01130\n",
      "Epoch [14/200], Training Loss: 0.01010, Validation Loss: 0.01197\n",
      "Epoch [15/200], Training Loss: 0.01102, Validation Loss: 0.01248\n",
      "Epoch [16/200], Training Loss: 0.01171, Validation Loss: 0.01249\n",
      "Epoch [17/200], Training Loss: 0.01189, Validation Loss: 0.01190\n",
      "Epoch [18/200], Training Loss: 0.01136, Validation Loss: 0.01081\n",
      "Epoch [19/200], Training Loss: 0.01026, Validation Loss: 0.00947\n",
      "Epoch [20/200], Training Loss: 0.00892, Validation Loss: 0.00815\n",
      "Epoch [21/200], Training Loss: 0.00754, Validation Loss: 0.00702\n",
      "Epoch [22/200], Training Loss: 0.00641, Validation Loss: 0.00630\n",
      "Epoch [23/200], Training Loss: 0.00559, Validation Loss: 0.00587\n",
      "Epoch [24/200], Training Loss: 0.00517, Validation Loss: 0.00588\n",
      "Epoch [25/200], Training Loss: 0.00508, Validation Loss: 0.00608\n",
      "Epoch [26/200], Training Loss: 0.00520, Validation Loss: 0.00623\n",
      "Epoch [27/200], Training Loss: 0.00542, Validation Loss: 0.00647\n",
      "Epoch [28/200], Training Loss: 0.00561, Validation Loss: 0.00651\n",
      "Epoch [29/200], Training Loss: 0.00568, Validation Loss: 0.00652\n",
      "Epoch [30/200], Training Loss: 0.00569, Validation Loss: 0.00635\n",
      "Epoch [31/200], Training Loss: 0.00554, Validation Loss: 0.00610\n",
      "Epoch [32/200], Training Loss: 0.00532, Validation Loss: 0.00583\n",
      "Epoch [33/200], Training Loss: 0.00502, Validation Loss: 0.00553\n",
      "Epoch [34/200], Training Loss: 0.00473, Validation Loss: 0.00533\n",
      "Epoch [35/200], Training Loss: 0.00451, Validation Loss: 0.00515\n",
      "Epoch [36/200], Training Loss: 0.00434, Validation Loss: 0.00511\n",
      "Epoch [37/200], Training Loss: 0.00425, Validation Loss: 0.00503\n",
      "Epoch [38/200], Training Loss: 0.00424, Validation Loss: 0.00508\n",
      "Epoch [39/200], Training Loss: 0.00427, Validation Loss: 0.00502\n",
      "Epoch [40/200], Training Loss: 0.00431, Validation Loss: 0.00508\n",
      "Epoch [41/200], Training Loss: 0.00433, Validation Loss: 0.00506\n",
      "Epoch [42/200], Training Loss: 0.00432, Validation Loss: 0.00497\n",
      "Epoch [43/200], Training Loss: 0.00425, Validation Loss: 0.00495\n",
      "Epoch [44/200], Training Loss: 0.00416, Validation Loss: 0.00474\n",
      "Epoch [45/200], Training Loss: 0.00411, Validation Loss: 0.00480\n",
      "Epoch [46/200], Training Loss: 0.00403, Validation Loss: 0.00465\n",
      "Epoch [47/200], Training Loss: 0.00396, Validation Loss: 0.00459\n",
      "Epoch [48/200], Training Loss: 0.00391, Validation Loss: 0.00453\n",
      "Epoch [49/200], Training Loss: 0.00386, Validation Loss: 0.00451\n",
      "Epoch [50/200], Training Loss: 0.00382, Validation Loss: 0.00447\n",
      "Epoch [51/200], Training Loss: 0.00387, Validation Loss: 0.00454\n",
      "Epoch [52/200], Training Loss: 0.00380, Validation Loss: 0.00445\n",
      "Epoch [53/200], Training Loss: 0.00382, Validation Loss: 0.00438\n",
      "Epoch [54/200], Training Loss: 0.00376, Validation Loss: 0.00441\n",
      "Epoch [55/200], Training Loss: 0.00373, Validation Loss: 0.00444\n",
      "Epoch [56/200], Training Loss: 0.00368, Validation Loss: 0.00429\n",
      "Epoch [57/200], Training Loss: 0.00365, Validation Loss: 0.00421\n",
      "Epoch [58/200], Training Loss: 0.00367, Validation Loss: 0.00417\n",
      "Epoch [59/200], Training Loss: 0.00367, Validation Loss: 0.00418\n",
      "Epoch [60/200], Training Loss: 0.00357, Validation Loss: 0.00423\n",
      "Epoch [61/200], Training Loss: 0.00356, Validation Loss: 0.00414\n",
      "Epoch [62/200], Training Loss: 0.00356, Validation Loss: 0.00414\n",
      "Epoch [63/200], Training Loss: 0.00354, Validation Loss: 0.00413\n",
      "Epoch [64/200], Training Loss: 0.00353, Validation Loss: 0.00409\n",
      "Epoch [65/200], Training Loss: 0.00350, Validation Loss: 0.00411\n",
      "Epoch [66/200], Training Loss: 0.00347, Validation Loss: 0.00407\n",
      "Epoch [67/200], Training Loss: 0.00349, Validation Loss: 0.00399\n",
      "Epoch [68/200], Training Loss: 0.00347, Validation Loss: 0.00395\n",
      "Epoch [69/200], Training Loss: 0.00342, Validation Loss: 0.00401\n",
      "Epoch [70/200], Training Loss: 0.00343, Validation Loss: 0.00395\n",
      "Epoch [71/200], Training Loss: 0.00338, Validation Loss: 0.00398\n",
      "Epoch [72/200], Training Loss: 0.00338, Validation Loss: 0.00406\n",
      "Epoch [73/200], Training Loss: 0.00333, Validation Loss: 0.00389\n",
      "Epoch [74/200], Training Loss: 0.00334, Validation Loss: 0.00397\n",
      "Epoch [75/200], Training Loss: 0.00333, Validation Loss: 0.00391\n",
      "Epoch [76/200], Training Loss: 0.00330, Validation Loss: 0.00395\n",
      "Epoch [77/200], Training Loss: 0.00330, Validation Loss: 0.00391\n",
      "Epoch [78/200], Training Loss: 0.00327, Validation Loss: 0.00391\n",
      "Epoch [79/200], Training Loss: 0.00327, Validation Loss: 0.00397\n",
      "Epoch [80/200], Training Loss: 0.00325, Validation Loss: 0.00390\n",
      "Epoch [81/200], Training Loss: 0.00324, Validation Loss: 0.00381\n",
      "Epoch [82/200], Training Loss: 0.00320, Validation Loss: 0.00369\n",
      "Epoch [83/200], Training Loss: 0.00322, Validation Loss: 0.00380\n",
      "Epoch [84/200], Training Loss: 0.00319, Validation Loss: 0.00379\n",
      "Epoch [85/200], Training Loss: 0.00319, Validation Loss: 0.00381\n",
      "Epoch [86/200], Training Loss: 0.00318, Validation Loss: 0.00381\n",
      "Epoch [87/200], Training Loss: 0.00318, Validation Loss: 0.00369\n",
      "Epoch [88/200], Training Loss: 0.00316, Validation Loss: 0.00374\n",
      "Epoch [89/200], Training Loss: 0.00317, Validation Loss: 0.00373\n",
      "Epoch [90/200], Training Loss: 0.00312, Validation Loss: 0.00376\n",
      "Epoch [91/200], Training Loss: 0.00312, Validation Loss: 0.00376\n",
      "Epoch [92/200], Training Loss: 0.00309, Validation Loss: 0.00377\n",
      "Epoch [93/200], Training Loss: 0.00307, Validation Loss: 0.00368\n",
      "Epoch [94/200], Training Loss: 0.00310, Validation Loss: 0.00370\n",
      "Epoch [95/200], Training Loss: 0.00307, Validation Loss: 0.00367\n",
      "Epoch [96/200], Training Loss: 0.00306, Validation Loss: 0.00366\n",
      "Epoch [97/200], Training Loss: 0.00302, Validation Loss: 0.00371\n",
      "Epoch [98/200], Training Loss: 0.00306, Validation Loss: 0.00361\n",
      "Epoch [99/200], Training Loss: 0.00301, Validation Loss: 0.00371\n",
      "Epoch [100/200], Training Loss: 0.00304, Validation Loss: 0.00361\n",
      "Epoch [101/200], Training Loss: 0.00301, Validation Loss: 0.00369\n",
      "Epoch [102/200], Training Loss: 0.00300, Validation Loss: 0.00363\n",
      "Epoch [103/200], Training Loss: 0.00300, Validation Loss: 0.00364\n",
      "Epoch [104/200], Training Loss: 0.00298, Validation Loss: 0.00360\n",
      "Epoch [105/200], Training Loss: 0.00301, Validation Loss: 0.00363\n",
      "Epoch [106/200], Training Loss: 0.00297, Validation Loss: 0.00355\n",
      "Epoch [107/200], Training Loss: 0.00295, Validation Loss: 0.00353\n",
      "Epoch [108/200], Training Loss: 0.00293, Validation Loss: 0.00360\n",
      "Epoch [109/200], Training Loss: 0.00293, Validation Loss: 0.00353\n",
      "Epoch [110/200], Training Loss: 0.00293, Validation Loss: 0.00357\n",
      "Epoch [111/200], Training Loss: 0.00291, Validation Loss: 0.00349\n",
      "Epoch [112/200], Training Loss: 0.00292, Validation Loss: 0.00358\n",
      "Epoch [113/200], Training Loss: 0.00290, Validation Loss: 0.00360\n",
      "Epoch [114/200], Training Loss: 0.00291, Validation Loss: 0.00356\n",
      "Epoch [115/200], Training Loss: 0.00288, Validation Loss: 0.00350\n",
      "Epoch [116/200], Training Loss: 0.00288, Validation Loss: 0.00353\n",
      "Epoch [117/200], Training Loss: 0.00286, Validation Loss: 0.00343\n",
      "Epoch [118/200], Training Loss: 0.00287, Validation Loss: 0.00347\n",
      "Epoch [119/200], Training Loss: 0.00285, Validation Loss: 0.00350\n",
      "Epoch [120/200], Training Loss: 0.00288, Validation Loss: 0.00353\n",
      "Epoch [121/200], Training Loss: 0.00283, Validation Loss: 0.00342\n",
      "Epoch [122/200], Training Loss: 0.00285, Validation Loss: 0.00351\n",
      "Epoch [123/200], Training Loss: 0.00281, Validation Loss: 0.00349\n",
      "Epoch [124/200], Training Loss: 0.00281, Validation Loss: 0.00344\n",
      "Epoch [125/200], Training Loss: 0.00283, Validation Loss: 0.00341\n",
      "Epoch [126/200], Training Loss: 0.00279, Validation Loss: 0.00352\n",
      "Epoch [127/200], Training Loss: 0.00283, Validation Loss: 0.00351\n",
      "Epoch [128/200], Training Loss: 0.00279, Validation Loss: 0.00346\n",
      "Epoch [129/200], Training Loss: 0.00281, Validation Loss: 0.00342\n",
      "Epoch [130/200], Training Loss: 0.00279, Validation Loss: 0.00345\n",
      "Epoch [131/200], Training Loss: 0.00276, Validation Loss: 0.00343\n",
      "Epoch [132/200], Training Loss: 0.00278, Validation Loss: 0.00345\n",
      "Epoch [133/200], Training Loss: 0.00277, Validation Loss: 0.00344\n",
      "Epoch [134/200], Training Loss: 0.00277, Validation Loss: 0.00347\n",
      "Epoch [135/200], Training Loss: 0.00275, Validation Loss: 0.00347\n",
      "Epoch [136/200], Training Loss: 0.00271, Validation Loss: 0.00343\n",
      "Epoch [137/200], Training Loss: 0.00274, Validation Loss: 0.00342\n",
      "Epoch [138/200], Training Loss: 0.00271, Validation Loss: 0.00345\n",
      "Epoch [139/200], Training Loss: 0.00271, Validation Loss: 0.00339\n",
      "Epoch [140/200], Training Loss: 0.00273, Validation Loss: 0.00342\n",
      "Epoch [141/200], Training Loss: 0.00270, Validation Loss: 0.00345\n",
      "Epoch [142/200], Training Loss: 0.00268, Validation Loss: 0.00338\n",
      "Epoch [143/200], Training Loss: 0.00268, Validation Loss: 0.00349\n",
      "Epoch [144/200], Training Loss: 0.00270, Validation Loss: 0.00344\n",
      "Epoch [145/200], Training Loss: 0.00266, Validation Loss: 0.00339\n",
      "Epoch [146/200], Training Loss: 0.00267, Validation Loss: 0.00335\n",
      "Epoch [147/200], Training Loss: 0.00267, Validation Loss: 0.00339\n",
      "Epoch [148/200], Training Loss: 0.00267, Validation Loss: 0.00338\n",
      "Epoch [149/200], Training Loss: 0.00266, Validation Loss: 0.00346\n",
      "Epoch [150/200], Training Loss: 0.00263, Validation Loss: 0.00336\n",
      "Epoch [151/200], Training Loss: 0.00264, Validation Loss: 0.00336\n",
      "Epoch [152/200], Training Loss: 0.00261, Validation Loss: 0.00337\n",
      "Epoch [153/200], Training Loss: 0.00264, Validation Loss: 0.00335\n",
      "Epoch [154/200], Training Loss: 0.00263, Validation Loss: 0.00336\n",
      "Epoch [155/200], Training Loss: 0.00266, Validation Loss: 0.00332\n",
      "Epoch [156/200], Training Loss: 0.00260, Validation Loss: 0.00341\n",
      "Epoch [157/200], Training Loss: 0.00259, Validation Loss: 0.00329\n",
      "Epoch [158/200], Training Loss: 0.00259, Validation Loss: 0.00336\n",
      "Epoch [159/200], Training Loss: 0.00256, Validation Loss: 0.00343\n",
      "Epoch [160/200], Training Loss: 0.00259, Validation Loss: 0.00336\n",
      "Epoch [161/200], Training Loss: 0.00259, Validation Loss: 0.00338\n",
      "Epoch [162/200], Training Loss: 0.00257, Validation Loss: 0.00338\n",
      "Epoch [163/200], Training Loss: 0.00255, Validation Loss: 0.00330\n",
      "Epoch [164/200], Training Loss: 0.00255, Validation Loss: 0.00338\n",
      "Epoch [165/200], Training Loss: 0.00256, Validation Loss: 0.00336\n",
      "Epoch [166/200], Training Loss: 0.00256, Validation Loss: 0.00328\n",
      "Epoch [167/200], Training Loss: 0.00253, Validation Loss: 0.00332\n",
      "Epoch [168/200], Training Loss: 0.00254, Validation Loss: 0.00338\n",
      "Epoch [169/200], Training Loss: 0.00253, Validation Loss: 0.00330\n",
      "Epoch [170/200], Training Loss: 0.00251, Validation Loss: 0.00348\n",
      "Epoch [171/200], Training Loss: 0.00253, Validation Loss: 0.00338\n",
      "Epoch [172/200], Training Loss: 0.00250, Validation Loss: 0.00338\n",
      "Epoch [173/200], Training Loss: 0.00250, Validation Loss: 0.00336\n",
      "Epoch [174/200], Training Loss: 0.00252, Validation Loss: 0.00325\n",
      "Epoch [175/200], Training Loss: 0.00251, Validation Loss: 0.00340\n",
      "Epoch [176/200], Training Loss: 0.00250, Validation Loss: 0.00337\n",
      "Epoch [177/200], Training Loss: 0.00247, Validation Loss: 0.00336\n",
      "Epoch [178/200], Training Loss: 0.00248, Validation Loss: 0.00336\n",
      "Epoch [179/200], Training Loss: 0.00249, Validation Loss: 0.00329\n",
      "Epoch [180/200], Training Loss: 0.00247, Validation Loss: 0.00327\n",
      "Epoch [181/200], Training Loss: 0.00248, Validation Loss: 0.00333\n",
      "Epoch [182/200], Training Loss: 0.00247, Validation Loss: 0.00338\n",
      "Epoch [183/200], Training Loss: 0.00247, Validation Loss: 0.00339\n",
      "Epoch [184/200], Training Loss: 0.00248, Validation Loss: 0.00325\n",
      "Epoch [185/200], Training Loss: 0.00246, Validation Loss: 0.00335\n",
      "Epoch [186/200], Training Loss: 0.00244, Validation Loss: 0.00331\n",
      "Epoch [187/200], Training Loss: 0.00246, Validation Loss: 0.00326\n",
      "Epoch [188/200], Training Loss: 0.00246, Validation Loss: 0.00328\n",
      "Epoch [189/200], Training Loss: 0.00243, Validation Loss: 0.00336\n",
      "Epoch [190/200], Training Loss: 0.00243, Validation Loss: 0.00328\n",
      "Epoch [191/200], Training Loss: 0.00242, Validation Loss: 0.00325\n",
      "Epoch [192/200], Training Loss: 0.00243, Validation Loss: 0.00333\n",
      "Epoch [193/200], Training Loss: 0.00245, Validation Loss: 0.00324\n",
      "Epoch [194/200], Training Loss: 0.00242, Validation Loss: 0.00333\n",
      "Epoch [195/200], Training Loss: 0.00244, Validation Loss: 0.00324\n",
      "Epoch [196/200], Training Loss: 0.00239, Validation Loss: 0.00330\n",
      "Epoch [197/200], Training Loss: 0.00241, Validation Loss: 0.00330\n",
      "Epoch [198/200], Training Loss: 0.00241, Validation Loss: 0.00333\n",
      "Epoch [199/200], Training Loss: 0.00239, Validation Loss: 0.00332\n",
      "Epoch [200/200], Training Loss: 0.00239, Validation Loss: 0.00337\n"
     ]
    }
   ],
   "source": [
    "max_epochs = 200\n",
    "\n",
    "for epoch in range(max_epochs):\n",
    "    model.train()\n",
    "    running_loss = 0.0\n",
    "\n",
    "    for x_batch, y_batch in dataloader_train:\n",
    "        optimizer.zero_grad()\n",
    "        outputs = model(x_batch)\n",
    "        loss = criterion(outputs, y_batch)\n",
    "        loss.backward()\n",
    "        optimizer.step()\n",
    "        running_loss += loss.item()\n",
    "\n",
    "    history[\"train_loss\"].append(running_loss)\n",
    "\n",
    "    model.eval()\n",
    "    running_val_loss = 0.0\n",
    "    with torch.no_grad():\n",
    "        for x_batch, y_batch in dataloader_valid:\n",
    "            val_outputs = model(x_batch)\n",
    "            val_loss = criterion(val_outputs, y_batch)\n",
    "            running_val_loss += val_loss.item()\n",
    "\n",
    "    history[\"valid_loss\"].append(running_val_loss)\n",
    "\n",
    "    print(f\"Epoch [{epoch+1}/{max_epochs}], Training Loss: {history['train_loss'][-1]:.5f}, Validation Loss: {history['valid_loss'][-1]:.5f}\")\n"
   ]
  },
  {
   "cell_type": "code",
   "execution_count": 78,
   "id": "7fcd48fe",
   "metadata": {},
   "outputs": [],
   "source": [
    "#model = torch.jit.load(\"../Model/model_\" + target + \".pt\")"
   ]
  },
  {
   "cell_type": "code",
   "execution_count": null,
   "id": "d3ce390a",
   "metadata": {},
   "outputs": [
    {
     "name": "stdout",
     "output_type": "stream",
     "text": [
      "0.7700087007780227\n"
     ]
    }
   ],
   "source": [
    "model.eval()\n",
    "with torch.no_grad(): \n",
    "    output = model(data_train_x)\n",
    "print(r2_score(data_train_y, output))\n",
    "#0.9112507194158642 $\n",
    "#0.7238603063013667"
   ]
  },
  {
   "cell_type": "code",
   "execution_count": null,
   "id": "82d3a3a2",
   "metadata": {},
   "outputs": [
    {
     "name": "stdout",
     "output_type": "stream",
     "text": [
      "0.7238603063013667\n"
     ]
    }
   ],
   "source": [
    "model.eval()\n",
    "with torch.no_grad(): \n",
    "    output = model(data_valid_x)\n",
    "print(r2_score(data_valid_y, output))\n",
    "#0.8963270649350216 $\n",
    "#0.7238603063013667"
   ]
  },
  {
   "cell_type": "code",
   "execution_count": null,
   "id": "d49e1baa",
   "metadata": {},
   "outputs": [
    {
     "name": "stdout",
     "output_type": "stream",
     "text": [
      "0.7600001835800253\n"
     ]
    }
   ],
   "source": [
    "model.eval()\n",
    "with torch.no_grad(): \n",
    "    output = model(data_x)\n",
    "print(r2_score(data_y, output))\n",
    "#0.9095302567058016 $\n",
    "#0.7600001835800253"
   ]
  },
  {
   "cell_type": "code",
   "execution_count": 82,
   "id": "8a41662e",
   "metadata": {},
   "outputs": [
    {
     "data": {
      "image/png": "[encoded data removed]",
      "text/plain": [
       "<Figure size 800x500 with 1 Axes>"
      ]
     },
     "metadata": {},
     "output_type": "display_data"
    }
   ],
   "source": [
    "train_loss = history[\"train_loss\"]\n",
    "valid_loss = history[\"valid_loss\"]\n",
    "epochs = range(1, len(train_loss) + 1)\n",
    "\n",
    "plt.figure(figsize=(8, 5))\n",
    "plt.plot(epochs, train_loss, label=\"Train Loss\")\n",
    "plt.plot(epochs, valid_loss, label=\"Validation Loss\")\n",
    "\n",
    "plt.xlabel(\"Epoch\")\n",
    "plt.ylabel(\"Loss\")\n",
    "plt.title(\"Training History\")\n",
    "plt.legend()\n",
    "plt.grid(True)"
   ]
  },
  {
   "cell_type": "code",
   "execution_count": 83,
   "id": "a7a29c5d",
   "metadata": {},
   "outputs": [],
   "source": [
    "torch.jit.script(model).save(\"../Model/model_\" + target + \".pt\")"
   ]
  }
 ],
 "metadata": {
  "kernelspec": {
   "display_name": "ai4good",
   "language": "python",
   "name": "python3"
  },
  "language_info": {
   "codemirror_mode": {
    "name": "ipython",
    "version": 3
   },
   "file_extension": ".py",
   "mimetype": "text/x-python",
   "name": "python",
   "nbconvert_exporter": "python",
   "pygments_lexer": "ipython3",
   "version": "3.11.7"
  }
 },
 "nbformat": 4,
 "nbformat_minor": 5
}
