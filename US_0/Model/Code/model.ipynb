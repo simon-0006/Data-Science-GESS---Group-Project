{
 "cells": [
  {
   "cell_type": "code",
   "execution_count": 258,
   "id": "85efd939",
   "metadata": {},
   "outputs": [
    {
     "data": {
      "text/plain": [
       "<torch._C.Generator at 0x1cfadb780d0>"
      ]
     },
     "execution_count": 258,
     "metadata": {},
     "output_type": "execute_result"
    }
   ],
   "source": [
    "import numpy as np\n",
    "import torch\n",
    "import torch.nn as nn\n",
    "import torch.nn.functional as F\n",
    "import torch.optim as optim\n",
    "from torch.utils.data import DataLoader, TensorDataset\n",
    "from sklearn.metrics import r2_score\n",
    "\n",
    "import matplotlib.pyplot as plt\n",
    "\n",
    "torch.manual_seed(42)"
   ]
  },
  {
   "cell_type": "code",
   "execution_count": 259,
   "id": "668e5c3b",
   "metadata": {},
   "outputs": [],
   "source": [
    "target = \"Median household income ($)\" # \"Owner-occupied [%]\""
   ]
  },
  {
   "cell_type": "code",
   "execution_count": 260,
   "id": "344bac65",
   "metadata": {},
   "outputs": [],
   "source": [
    "data_train_x = np.load(\"../../Data/Data/data_train_x_\" + target + \".npy\")\n",
    "data_train_y = np.load(\"../../Data/Data/data_train_y_\" + target + \".npy\")\n",
    "data_valid_x = np.load(\"../../Data/Data/data_valid_x_\" + target + \".npy\")\n",
    "data_valid_y = np.load(\"../../Data/Data/data_valid_y_\" + target + \".npy\")"
   ]
  },
  {
   "cell_type": "code",
   "execution_count": 261,
   "id": "352ec98d",
   "metadata": {},
   "outputs": [],
   "source": [
    "data_train_x = torch.tensor(data_train_x, dtype=torch.float32)\n",
    "data_train_y = torch.tensor(data_train_y, dtype=torch.float32).unsqueeze(1)\n",
    "data_valid_x = torch.tensor(data_valid_x, dtype=torch.float32)\n",
    "data_valid_y = torch.tensor(data_valid_y, dtype=torch.float32).unsqueeze(1)"
   ]
  },
  {
   "cell_type": "code",
   "execution_count": 262,
   "id": "55ba889a",
   "metadata": {},
   "outputs": [],
   "source": [
    "batch_size = data_train_x.shape[0]\n",
    "\n",
    "dataset_train = TensorDataset(data_train_x, data_train_y)\n",
    "dataloader_train = DataLoader(dataset_train, batch_size=batch_size, shuffle=True, num_workers=5) \n",
    "dataset_valid = TensorDataset(data_valid_x, data_valid_y)\n",
    "dataloader_valid = DataLoader(dataset_valid, batch_size=batch_size, shuffle=True, num_workers=5) "
   ]
  },
  {
   "cell_type": "code",
   "execution_count": 263,
   "id": "fe8ce45b",
   "metadata": {},
   "outputs": [],
   "source": [
    "class RNN_Regressor(nn.Module):\n",
    "    def __init__(self, input_size, output_size):\n",
    "        super().__init__()\n",
    "\n",
    "        lstm_hidden_size = 32\n",
    "        hidden_size = 4\n",
    "\n",
    "        self.lstm = nn.LSTM(input_size=input_size, hidden_size=lstm_hidden_size, batch_first=True)\n",
    "\n",
    "        self.dense1 = nn.Linear(lstm_hidden_size, hidden_size)\n",
    "        self.dense2 = nn.Linear(hidden_size, output_size)\n",
    "\n",
    "        \n",
    "\n",
    "    def forward(self, input):\n",
    "        x = F.dropout(input, p=0.5)\n",
    "\n",
    "        x, _ = self.lstm(x)\n",
    "        x = x[:, -1, :]\n",
    "\n",
    "        x = self.dense1(x)\n",
    "        x = F.leaky_relu(x)\n",
    "\n",
    "        x = self.dense2(x)\n",
    "        x = F.sigmoid(x)\n",
    "\n",
    "        return x"
   ]
  },
  {
   "cell_type": "code",
   "execution_count": 264,
   "id": "7cc1823e",
   "metadata": {},
   "outputs": [],
   "source": [
    "model = RNN_Regressor(data_train_x.shape[2], 1)\n",
    "\n",
    "optimizer = optim.Adam(model.parameters(), lr=0.01, weight_decay=0.00001)\n",
    "criterion = nn.MSELoss()\n",
    "\n",
    "history = {\n",
    "    \"train_loss\": [],\n",
    "    \"valid_loss\": []\n",
    "}"
   ]
  },
  {
   "cell_type": "code",
   "execution_count": 265,
   "id": "cef776ef",
   "metadata": {},
   "outputs": [
    {
     "name": "stdout",
     "output_type": "stream",
     "text": [
      "Epoch [1/100], Training Loss: 0.0200, Validation Loss: 0.0180\n",
      "Epoch [2/100], Training Loss: 0.0174, Validation Loss: 0.0146\n",
      "Epoch [3/100], Training Loss: 0.0141, Validation Loss: 0.0104\n",
      "Epoch [4/100], Training Loss: 0.0101, Validation Loss: 0.0068\n",
      "Epoch [5/100], Training Loss: 0.0066, Validation Loss: 0.0048\n",
      "Epoch [6/100], Training Loss: 0.0047, Validation Loss: 0.0051\n",
      "Epoch [7/100], Training Loss: 0.0050, Validation Loss: 0.0053\n",
      "Epoch [8/100], Training Loss: 0.0051, Validation Loss: 0.0047\n",
      "Epoch [9/100], Training Loss: 0.0045, Validation Loss: 0.0039\n",
      "Epoch [10/100], Training Loss: 0.0037, Validation Loss: 0.0035\n",
      "Epoch [11/100], Training Loss: 0.0032, Validation Loss: 0.0034\n",
      "Epoch [12/100], Training Loss: 0.0030, Validation Loss: 0.0034\n",
      "Epoch [13/100], Training Loss: 0.0030, Validation Loss: 0.0035\n",
      "Epoch [14/100], Training Loss: 0.0031, Validation Loss: 0.0036\n",
      "Epoch [15/100], Training Loss: 0.0031, Validation Loss: 0.0036\n",
      "Epoch [16/100], Training Loss: 0.0032, Validation Loss: 0.0035\n",
      "Epoch [17/100], Training Loss: 0.0031, Validation Loss: 0.0034\n",
      "Epoch [18/100], Training Loss: 0.0029, Validation Loss: 0.0032\n",
      "Epoch [19/100], Training Loss: 0.0028, Validation Loss: 0.0031\n",
      "Epoch [20/100], Training Loss: 0.0027, Validation Loss: 0.0029\n",
      "Epoch [21/100], Training Loss: 0.0026, Validation Loss: 0.0028\n",
      "Epoch [22/100], Training Loss: 0.0025, Validation Loss: 0.0028\n",
      "Epoch [23/100], Training Loss: 0.0025, Validation Loss: 0.0028\n",
      "Epoch [24/100], Training Loss: 0.0024, Validation Loss: 0.0027\n",
      "Epoch [25/100], Training Loss: 0.0024, Validation Loss: 0.0027\n",
      "Epoch [26/100], Training Loss: 0.0024, Validation Loss: 0.0026\n",
      "Epoch [27/100], Training Loss: 0.0023, Validation Loss: 0.0025\n",
      "Epoch [28/100], Training Loss: 0.0022, Validation Loss: 0.0024\n",
      "Epoch [29/100], Training Loss: 0.0021, Validation Loss: 0.0023\n",
      "Epoch [30/100], Training Loss: 0.0020, Validation Loss: 0.0022\n",
      "Epoch [31/100], Training Loss: 0.0020, Validation Loss: 0.0022\n",
      "Epoch [32/100], Training Loss: 0.0019, Validation Loss: 0.0021\n",
      "Epoch [33/100], Training Loss: 0.0018, Validation Loss: 0.0020\n",
      "Epoch [34/100], Training Loss: 0.0018, Validation Loss: 0.0020\n",
      "Epoch [35/100], Training Loss: 0.0017, Validation Loss: 0.0018\n",
      "Epoch [36/100], Training Loss: 0.0016, Validation Loss: 0.0018\n",
      "Epoch [37/100], Training Loss: 0.0016, Validation Loss: 0.0018\n",
      "Epoch [38/100], Training Loss: 0.0015, Validation Loss: 0.0017\n",
      "Epoch [39/100], Training Loss: 0.0015, Validation Loss: 0.0016\n",
      "Epoch [40/100], Training Loss: 0.0015, Validation Loss: 0.0016\n",
      "Epoch [41/100], Training Loss: 0.0014, Validation Loss: 0.0016\n",
      "Epoch [42/100], Training Loss: 0.0015, Validation Loss: 0.0016\n",
      "Epoch [43/100], Training Loss: 0.0014, Validation Loss: 0.0015\n",
      "Epoch [44/100], Training Loss: 0.0013, Validation Loss: 0.0015\n",
      "Epoch [45/100], Training Loss: 0.0013, Validation Loss: 0.0015\n",
      "Epoch [46/100], Training Loss: 0.0013, Validation Loss: 0.0014\n",
      "Epoch [47/100], Training Loss: 0.0013, Validation Loss: 0.0014\n",
      "Epoch [48/100], Training Loss: 0.0013, Validation Loss: 0.0014\n",
      "Epoch [49/100], Training Loss: 0.0013, Validation Loss: 0.0014\n",
      "Epoch [50/100], Training Loss: 0.0012, Validation Loss: 0.0014\n",
      "Epoch [51/100], Training Loss: 0.0012, Validation Loss: 0.0014\n",
      "Epoch [52/100], Training Loss: 0.0012, Validation Loss: 0.0013\n",
      "Epoch [53/100], Training Loss: 0.0012, Validation Loss: 0.0013\n",
      "Epoch [54/100], Training Loss: 0.0012, Validation Loss: 0.0013\n",
      "Epoch [55/100], Training Loss: 0.0012, Validation Loss: 0.0013\n",
      "Epoch [56/100], Training Loss: 0.0011, Validation Loss: 0.0013\n",
      "Epoch [57/100], Training Loss: 0.0012, Validation Loss: 0.0013\n",
      "Epoch [58/100], Training Loss: 0.0011, Validation Loss: 0.0013\n",
      "Epoch [59/100], Training Loss: 0.0011, Validation Loss: 0.0012\n",
      "Epoch [60/100], Training Loss: 0.0011, Validation Loss: 0.0013\n",
      "Epoch [61/100], Training Loss: 0.0011, Validation Loss: 0.0013\n",
      "Epoch [62/100], Training Loss: 0.0011, Validation Loss: 0.0012\n",
      "Epoch [63/100], Training Loss: 0.0011, Validation Loss: 0.0013\n",
      "Epoch [64/100], Training Loss: 0.0011, Validation Loss: 0.0013\n",
      "Epoch [65/100], Training Loss: 0.0011, Validation Loss: 0.0012\n",
      "Epoch [66/100], Training Loss: 0.0011, Validation Loss: 0.0013\n",
      "Epoch [67/100], Training Loss: 0.0011, Validation Loss: 0.0012\n",
      "Epoch [68/100], Training Loss: 0.0011, Validation Loss: 0.0012\n",
      "Epoch [69/100], Training Loss: 0.0011, Validation Loss: 0.0012\n",
      "Epoch [70/100], Training Loss: 0.0010, Validation Loss: 0.0011\n",
      "Epoch [71/100], Training Loss: 0.0011, Validation Loss: 0.0012\n",
      "Epoch [72/100], Training Loss: 0.0011, Validation Loss: 0.0012\n",
      "Epoch [73/100], Training Loss: 0.0010, Validation Loss: 0.0012\n",
      "Epoch [74/100], Training Loss: 0.0010, Validation Loss: 0.0012\n",
      "Epoch [75/100], Training Loss: 0.0010, Validation Loss: 0.0012\n",
      "Epoch [76/100], Training Loss: 0.0010, Validation Loss: 0.0011\n",
      "Epoch [77/100], Training Loss: 0.0010, Validation Loss: 0.0012\n",
      "Epoch [78/100], Training Loss: 0.0010, Validation Loss: 0.0012\n",
      "Epoch [79/100], Training Loss: 0.0010, Validation Loss: 0.0011\n",
      "Epoch [80/100], Training Loss: 0.0010, Validation Loss: 0.0012\n",
      "Epoch [81/100], Training Loss: 0.0010, Validation Loss: 0.0011\n",
      "Epoch [82/100], Training Loss: 0.0010, Validation Loss: 0.0011\n",
      "Epoch [83/100], Training Loss: 0.0010, Validation Loss: 0.0011\n",
      "Epoch [84/100], Training Loss: 0.0010, Validation Loss: 0.0011\n",
      "Epoch [85/100], Training Loss: 0.0010, Validation Loss: 0.0011\n",
      "Epoch [86/100], Training Loss: 0.0010, Validation Loss: 0.0011\n",
      "Epoch [87/100], Training Loss: 0.0010, Validation Loss: 0.0011\n",
      "Epoch [88/100], Training Loss: 0.0010, Validation Loss: 0.0011\n",
      "Epoch [89/100], Training Loss: 0.0010, Validation Loss: 0.0011\n",
      "Epoch [90/100], Training Loss: 0.0010, Validation Loss: 0.0011\n",
      "Epoch [91/100], Training Loss: 0.0010, Validation Loss: 0.0011\n",
      "Epoch [92/100], Training Loss: 0.0010, Validation Loss: 0.0011\n",
      "Epoch [93/100], Training Loss: 0.0009, Validation Loss: 0.0011\n",
      "Epoch [94/100], Training Loss: 0.0010, Validation Loss: 0.0010\n",
      "Epoch [95/100], Training Loss: 0.0009, Validation Loss: 0.0011\n",
      "Epoch [96/100], Training Loss: 0.0009, Validation Loss: 0.0011\n",
      "Epoch [97/100], Training Loss: 0.0009, Validation Loss: 0.0011\n",
      "Epoch [98/100], Training Loss: 0.0009, Validation Loss: 0.0011\n",
      "Epoch [99/100], Training Loss: 0.0009, Validation Loss: 0.0011\n",
      "Epoch [100/100], Training Loss: 0.0009, Validation Loss: 0.0011\n"
     ]
    }
   ],
   "source": [
    "max_epochs = 100\n",
    "\n",
    "for epoch in range(max_epochs):\n",
    "    model.train()\n",
    "    running_loss = 0.0\n",
    "\n",
    "    for x_batch, y_batch in dataloader_train:\n",
    "        optimizer.zero_grad()\n",
    "        outputs = model(x_batch)\n",
    "        loss = criterion(outputs, y_batch)\n",
    "        loss.backward()\n",
    "        optimizer.step()\n",
    "        running_loss += loss.item()\n",
    "\n",
    "    history[\"train_loss\"].append(running_loss)\n",
    "\n",
    "    model.eval()\n",
    "    running_val_loss = 0.0\n",
    "    with torch.no_grad():\n",
    "        for x_batch, y_batch in dataloader_valid:\n",
    "            val_outputs = model(x_batch)\n",
    "            val_loss = criterion(val_outputs, y_batch)\n",
    "            running_val_loss += val_loss.item()\n",
    "\n",
    "    history[\"valid_loss\"].append(running_val_loss)\n",
    "\n",
    "    print(f\"Epoch [{epoch+1}/{max_epochs}], Training Loss: {history['train_loss'][-1]:.4f}, Validation Loss: {history['valid_loss'][-1]:.4f}\")\n"
   ]
  },
  {
   "cell_type": "code",
   "execution_count": 266,
   "id": "d3ce390a",
   "metadata": {},
   "outputs": [
    {
     "name": "stdout",
     "output_type": "stream",
     "text": [
      "0.8697666729534853\n"
     ]
    }
   ],
   "source": [
    "model.eval()\n",
    "with torch.no_grad(): \n",
    "    output = model(data_train_x)\n",
    "print(r2_score(data_train_y, output))"
   ]
  },
  {
   "cell_type": "code",
   "execution_count": 267,
   "id": "82d3a3a2",
   "metadata": {},
   "outputs": [
    {
     "name": "stdout",
     "output_type": "stream",
     "text": [
      "0.8615020870546584\n"
     ]
    }
   ],
   "source": [
    "model.eval()\n",
    "with torch.no_grad(): \n",
    "    output = model(data_valid_x)\n",
    "print(r2_score(data_valid_y, output))"
   ]
  },
  {
   "cell_type": "code",
   "execution_count": 268,
   "id": "8a41662e",
   "metadata": {},
   "outputs": [
    {
     "data": {
      "image/png": "[encoded data removed]",
      "text/plain": [
       "<Figure size 800x500 with 1 Axes>"
      ]
     },
     "metadata": {},
     "output_type": "display_data"
    }
   ],
   "source": [
    "train_loss = history[\"train_loss\"]\n",
    "valid_loss = history[\"valid_loss\"]\n",
    "epochs = range(1, len(train_loss) + 1)\n",
    "\n",
    "plt.figure(figsize=(8, 5))\n",
    "plt.plot(epochs, train_loss, label=\"Train Loss\")\n",
    "plt.plot(epochs, valid_loss, label=\"Validation Loss\")\n",
    "\n",
    "plt.xlabel(\"Epoch\")\n",
    "plt.ylabel(\"Loss\")\n",
    "plt.title(\"Training History\")\n",
    "plt.legend()\n",
    "plt.grid(True)"
   ]
  },
  {
   "cell_type": "code",
   "execution_count": 270,
   "id": "a7a29c5d",
   "metadata": {},
   "outputs": [],
   "source": [
    "torch.jit.script(model).save(\"../Model/model.pt\")"
   ]
  }
 ],
 "metadata": {
  "kernelspec": {
   "display_name": "ai4good",
   "language": "python",
   "name": "python3"
  },
  "language_info": {
   "codemirror_mode": {
    "name": "ipython",
    "version": 3
   },
   "file_extension": ".py",
   "mimetype": "text/x-python",
   "name": "python",
   "nbconvert_exporter": "python",
   "pygments_lexer": "ipython3",
   "version": "3.11.7"
  }
 },
 "nbformat": 4,
 "nbformat_minor": 5
}
