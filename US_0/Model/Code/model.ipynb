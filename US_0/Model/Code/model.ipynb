{
 "cells": [
  {
   "cell_type": "code",
   "execution_count": 39,
   "id": "85efd939",
   "metadata": {},
   "outputs": [],
   "source": [
    "import numpy as np\n",
    "import random\n",
    "\n",
    "import torch\n",
    "import torch.nn as nn\n",
    "import torch.nn.functional as F\n",
    "import torch.optim as optim\n",
    "from torch.utils.data import DataLoader, TensorDataset\n",
    "from sklearn.metrics import r2_score\n",
    "\n",
    "import matplotlib.pyplot as plt\n",
    "\n",
    "torch.manual_seed(42)\n",
    "random.seed(42)"
   ]
  },
  {
   "cell_type": "code",
   "execution_count": 40,
   "id": "668e5c3b",
   "metadata": {},
   "outputs": [],
   "source": [
    "target = \"Median household income ($)\" # \"Owner-occupied [%]\""
   ]
  },
  {
   "cell_type": "code",
   "execution_count": 41,
   "id": "344bac65",
   "metadata": {},
   "outputs": [],
   "source": [
    "loaded_x = np.load(\"../../Data/Data/data_x_\" + target + \".npz\", allow_pickle=True)\n",
    "dict_x = {key: loaded_x[key] for key in loaded_x.files}\n",
    "\n",
    "loaded_y = np.load(\"../../Data/Data/data_y_\" + target + \".npz\", allow_pickle=True)\n",
    "dict_y = {key: loaded_y[key] for key in loaded_y.files}"
   ]
  },
  {
   "cell_type": "code",
   "execution_count": 42,
   "id": "51ef70c1",
   "metadata": {},
   "outputs": [
    {
     "name": "stdout",
     "output_type": "stream",
     "text": [
      "(7440, 3, 73) (7440,)\n",
      "(29712, 3, 73) (29712,)\n",
      "(37152, 3, 73) (37152,)\n"
     ]
    }
   ],
   "source": [
    "all_keys = list(dict_x.keys())\n",
    "random.shuffle(all_keys)\n",
    "\n",
    "split_index = int(len(all_keys) * 0.8)\n",
    "train_keys = all_keys[:split_index]\n",
    "valid_keys = all_keys[split_index:]\n",
    "\n",
    "data_train_x = np.vstack([dict_x[k] for k in train_keys]) \n",
    "data_valid_x = np.vstack([dict_x[k] for k in valid_keys])\n",
    "data_x = np.vstack([dict_x[k] for k in all_keys])\n",
    "\n",
    "data_train_y = np.concatenate([dict_y[k] for k in train_keys]) \n",
    "data_valid_y = np.concatenate([dict_y[k] for k in valid_keys]) \n",
    "data_y = np.concatenate([dict_y[k] for k in all_keys])\n",
    "\n",
    "print(data_valid_x.shape, data_valid_y.shape)\n",
    "print(data_train_x.shape, data_train_y.shape)\n",
    "print(data_x.shape, data_y.shape)"
   ]
  },
  {
   "cell_type": "code",
   "execution_count": 43,
   "id": "352ec98d",
   "metadata": {},
   "outputs": [],
   "source": [
    "data_train_x = torch.tensor(data_train_x, dtype=torch.float32)\n",
    "data_train_y = torch.tensor(data_train_y, dtype=torch.float32).unsqueeze(1)\n",
    "data_valid_x = torch.tensor(data_valid_x, dtype=torch.float32)\n",
    "data_valid_y = torch.tensor(data_valid_y, dtype=torch.float32).unsqueeze(1)\n",
    "data_x = torch.tensor(data_x, dtype=torch.float32)\n",
    "data_y = torch.tensor(data_y, dtype=torch.float32).unsqueeze(1)"
   ]
  },
  {
   "cell_type": "code",
   "execution_count": 44,
   "id": "55ba889a",
   "metadata": {},
   "outputs": [],
   "source": [
    "batch_size = data_train_x.shape[0]\n",
    "\n",
    "dataset_train = TensorDataset(data_train_x, data_train_y)\n",
    "dataloader_train = DataLoader(dataset_train, batch_size=batch_size, shuffle=True, num_workers=5) \n",
    "dataset_valid = TensorDataset(data_valid_x, data_valid_y)\n",
    "dataloader_valid = DataLoader(dataset_valid, batch_size=batch_size, shuffle=True, num_workers=5) "
   ]
  },
  {
   "cell_type": "code",
   "execution_count": 45,
   "id": "fe8ce45b",
   "metadata": {},
   "outputs": [],
   "source": [
    "class RNN_Regressor(nn.Module):\n",
    "    def __init__(self, input_size, output_size):\n",
    "        super().__init__()\n",
    "\n",
    "        lstm_hidden_size = 32\n",
    "        hidden_size = 4\n",
    "\n",
    "        self.lstm = nn.LSTM(input_size=input_size, hidden_size=lstm_hidden_size, batch_first=True)\n",
    "\n",
    "        self.dense1 = nn.Linear(lstm_hidden_size, hidden_size)\n",
    "        self.dense2 = nn.Linear(hidden_size, output_size)\n",
    "\n",
    "        \n",
    "\n",
    "    def forward(self, input):\n",
    "        x = F.dropout(input, p=0.35)\n",
    "\n",
    "        x, _ = self.lstm(x)\n",
    "        x = x[:, -1, :]\n",
    "\n",
    "        x = self.dense1(x)\n",
    "        x = F.leaky_relu(x)\n",
    "\n",
    "        x = self.dense2(x)\n",
    "        x = F.sigmoid(x)\n",
    "\n",
    "        return x"
   ]
  },
  {
   "cell_type": "code",
   "execution_count": 46,
   "id": "7cc1823e",
   "metadata": {},
   "outputs": [],
   "source": [
    "model = RNN_Regressor(data_train_x.shape[2], 1)\n",
    "\n",
    "optimizer = optim.Adam(model.parameters(), lr=0.01, weight_decay=0.00001)\n",
    "criterion = nn.MSELoss()\n",
    "\n",
    "history = {\n",
    "    \"train_loss\": [],\n",
    "    \"valid_loss\": []\n",
    "}"
   ]
  },
  {
   "cell_type": "code",
   "execution_count": null,
   "id": "cef776ef",
   "metadata": {},
   "outputs": [],
   "source": [
    "max_epochs = 200\n",
    "\n",
    "for epoch in range(max_epochs):\n",
    "    model.train()\n",
    "    running_loss = 0.0\n",
    "\n",
    "    for x_batch, y_batch in dataloader_train:\n",
    "        optimizer.zero_grad()\n",
    "        outputs = model(x_batch)\n",
    "        loss = criterion(outputs, y_batch)\n",
    "        loss.backward()\n",
    "        optimizer.step()\n",
    "        running_loss += loss.item()\n",
    "\n",
    "    history[\"train_loss\"].append(running_loss)\n",
    "\n",
    "    model.eval()\n",
    "    running_val_loss = 0.0\n",
    "    with torch.no_grad():\n",
    "        for x_batch, y_batch in dataloader_valid:\n",
    "            val_outputs = model(x_batch)\n",
    "            val_loss = criterion(val_outputs, y_batch)\n",
    "            running_val_loss += val_loss.item()\n",
    "\n",
    "    history[\"valid_loss\"].append(running_val_loss)\n",
    "\n",
    "    print(f\"Epoch [{epoch+1}/{max_epochs}], Training Loss: {history['train_loss'][-1]:.5f}, Validation Loss: {history['valid_loss'][-1]:.5f}\")\n"
   ]
  },
  {
   "cell_type": "code",
   "execution_count": null,
   "id": "7fcd48fe",
   "metadata": {},
   "outputs": [],
   "source": [
    "#model = torch.jit.load(\"../Model/model_\" + target + \".pt\")"
   ]
  },
  {
   "cell_type": "code",
   "execution_count": 49,
   "id": "d3ce390a",
   "metadata": {},
   "outputs": [
    {
     "name": "stdout",
     "output_type": "stream",
     "text": [
      "0.9097924752407909\n"
     ]
    }
   ],
   "source": [
    "model.eval()\n",
    "with torch.no_grad(): \n",
    "    output = model(data_train_x)\n",
    "print(r2_score(data_train_y, output))"
   ]
  },
  {
   "cell_type": "code",
   "execution_count": 50,
   "id": "82d3a3a2",
   "metadata": {},
   "outputs": [
    {
     "name": "stdout",
     "output_type": "stream",
     "text": [
      "0.921767717746671\n"
     ]
    }
   ],
   "source": [
    "model.eval()\n",
    "with torch.no_grad(): \n",
    "    output = model(data_valid_x)\n",
    "print(r2_score(data_valid_y, output))"
   ]
  },
  {
   "cell_type": "code",
   "execution_count": 51,
   "id": "d49e1baa",
   "metadata": {},
   "outputs": [
    {
     "name": "stdout",
     "output_type": "stream",
     "text": [
      "0.9107295922437899\n"
     ]
    }
   ],
   "source": [
    "model.eval()\n",
    "with torch.no_grad(): \n",
    "    output = model(data_x)\n",
    "print(r2_score(data_y, output))"
   ]
  },
  {
   "cell_type": "code",
   "execution_count": 52,
   "id": "8a41662e",
   "metadata": {},
   "outputs": [
    {
     "data": {
      "image/png": "[encoded data removed]",
      "text/plain": [
       "<Figure size 800x500 with 1 Axes>"
      ]
     },
     "metadata": {},
     "output_type": "display_data"
    }
   ],
   "source": [
    "train_loss = history[\"train_loss\"]\n",
    "valid_loss = history[\"valid_loss\"]\n",
    "epochs = range(1, len(train_loss) + 1)\n",
    "\n",
    "plt.figure(figsize=(8, 5))\n",
    "plt.plot(epochs, train_loss, label=\"Train Loss\")\n",
    "plt.plot(epochs, valid_loss, label=\"Validation Loss\")\n",
    "\n",
    "plt.xlabel(\"Epoch\")\n",
    "plt.ylabel(\"Loss\")\n",
    "plt.title(\"Training History\")\n",
    "plt.legend()\n",
    "plt.grid(True)"
   ]
  },
  {
   "cell_type": "code",
   "execution_count": null,
   "id": "a7a29c5d",
   "metadata": {},
   "outputs": [],
   "source": [
    "torch.jit.script(model).save(\"../Model/model_\" + target + \".pt\")"
   ]
  }
 ],
 "metadata": {
  "kernelspec": {
   "display_name": "ai4good",
   "language": "python",
   "name": "python3"
  },
  "language_info": {
   "codemirror_mode": {
    "name": "ipython",
    "version": 3
   },
   "file_extension": ".py",
   "mimetype": "text/x-python",
   "name": "python",
   "nbconvert_exporter": "python",
   "pygments_lexer": "ipython3",
   "version": "3.11.7"
  }
 },
 "nbformat": 4,
 "nbformat_minor": 5
}
