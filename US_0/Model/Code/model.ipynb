{
 "cells": [
  {
   "cell_type": "code",
   "execution_count": 372,
   "id": "85efd939",
   "metadata": {},
   "outputs": [
    {
     "data": {
      "text/plain": [
       "<torch._C.Generator at 0x1cfadb780d0>"
      ]
     },
     "execution_count": 372,
     "metadata": {},
     "output_type": "execute_result"
    }
   ],
   "source": [
    "import numpy as np\n",
    "import torch\n",
    "import torch.nn as nn\n",
    "import torch.nn.functional as F\n",
    "import torch.optim as optim\n",
    "from torch.utils.data import DataLoader, TensorDataset\n",
    "from sklearn.metrics import r2_score\n",
    "\n",
    "import matplotlib.pyplot as plt\n",
    "\n",
    "torch.manual_seed(42)"
   ]
  },
  {
   "cell_type": "code",
   "execution_count": 373,
   "id": "668e5c3b",
   "metadata": {},
   "outputs": [],
   "source": [
    "target = \"Median household income ($)\" # \"Owner-occupied [%]\""
   ]
  },
  {
   "cell_type": "code",
   "execution_count": 374,
   "id": "344bac65",
   "metadata": {},
   "outputs": [],
   "source": [
    "data_train_x = np.load(\"../../Data/Data/data_train_x_\" + target + \".npy\")\n",
    "data_train_y = np.load(\"../../Data/Data/data_train_y_\" + target + \".npy\")\n",
    "data_valid_x = np.load(\"../../Data/Data/data_valid_x_\" + target + \".npy\")\n",
    "data_valid_y = np.load(\"../../Data/Data/data_valid_y_\" + target + \".npy\")"
   ]
  },
  {
   "cell_type": "code",
   "execution_count": 375,
   "id": "352ec98d",
   "metadata": {},
   "outputs": [],
   "source": [
    "data_train_x = torch.tensor(data_train_x, dtype=torch.float32)\n",
    "data_train_y = torch.tensor(data_train_y, dtype=torch.float32).unsqueeze(1)\n",
    "data_valid_x = torch.tensor(data_valid_x, dtype=torch.float32)\n",
    "data_valid_y = torch.tensor(data_valid_y, dtype=torch.float32).unsqueeze(1)"
   ]
  },
  {
   "cell_type": "code",
   "execution_count": 376,
   "id": "55ba889a",
   "metadata": {},
   "outputs": [],
   "source": [
    "batch_size = data_train_x.shape[0]\n",
    "\n",
    "dataset_train = TensorDataset(data_train_x, data_train_y)\n",
    "dataloader_train = DataLoader(dataset_train, batch_size=batch_size, shuffle=True, num_workers=5) \n",
    "dataset_valid = TensorDataset(data_valid_x, data_valid_y)\n",
    "dataloader_valid = DataLoader(dataset_valid, batch_size=batch_size, shuffle=True, num_workers=5) "
   ]
  },
  {
   "cell_type": "code",
   "execution_count": 377,
   "id": "fe8ce45b",
   "metadata": {},
   "outputs": [],
   "source": [
    "class RNN_Regressor(nn.Module):\n",
    "    def __init__(self, input_size, output_size):\n",
    "        super().__init__()\n",
    "\n",
    "        lstm_hidden_size = 32\n",
    "        hidden_size = 4\n",
    "\n",
    "        self.lstm = nn.LSTM(input_size=input_size, hidden_size=lstm_hidden_size, batch_first=True)\n",
    "\n",
    "        self.dense1 = nn.Linear(lstm_hidden_size, hidden_size)\n",
    "        self.dense2 = nn.Linear(hidden_size, output_size)\n",
    "\n",
    "        \n",
    "\n",
    "    def forward(self, input):\n",
    "        x = F.dropout(input, p=0.35)\n",
    "\n",
    "        x, _ = self.lstm(x)\n",
    "        x = x[:, -1, :]\n",
    "\n",
    "        x = self.dense1(x)\n",
    "        x = F.leaky_relu(x)\n",
    "\n",
    "        x = self.dense2(x)\n",
    "        x = F.sigmoid(x)\n",
    "\n",
    "        return x"
   ]
  },
  {
   "cell_type": "code",
   "execution_count": 378,
   "id": "7cc1823e",
   "metadata": {},
   "outputs": [],
   "source": [
    "model = RNN_Regressor(data_train_x.shape[2], 1)\n",
    "\n",
    "optimizer = optim.Adam(model.parameters(), lr=0.01, weight_decay=0.00001)\n",
    "criterion = nn.MSELoss()\n",
    "\n",
    "history = {\n",
    "    \"train_loss\": [],\n",
    "    \"valid_loss\": []\n",
    "}"
   ]
  },
  {
   "cell_type": "code",
   "execution_count": null,
   "id": "cef776ef",
   "metadata": {},
   "outputs": [
    {
     "name": "stdout",
     "output_type": "stream",
     "text": [
      "Epoch [1/50], Training Loss: 0.00063, Validation Loss: 0.00084\n",
      "Epoch [2/50], Training Loss: 0.00063, Validation Loss: 0.00082\n",
      "Epoch [3/50], Training Loss: 0.00063, Validation Loss: 0.00083\n",
      "Epoch [4/50], Training Loss: 0.00063, Validation Loss: 0.00082\n",
      "Epoch [5/50], Training Loss: 0.00063, Validation Loss: 0.00083\n",
      "Epoch [6/50], Training Loss: 0.00063, Validation Loss: 0.00081\n",
      "Epoch [7/50], Training Loss: 0.00063, Validation Loss: 0.00080\n",
      "Epoch [8/50], Training Loss: 0.00063, Validation Loss: 0.00084\n",
      "Epoch [9/50], Training Loss: 0.00062, Validation Loss: 0.00082\n",
      "Epoch [10/50], Training Loss: 0.00063, Validation Loss: 0.00081\n",
      "Epoch [11/50], Training Loss: 0.00063, Validation Loss: 0.00083\n",
      "Epoch [12/50], Training Loss: 0.00062, Validation Loss: 0.00079\n",
      "Epoch [13/50], Training Loss: 0.00063, Validation Loss: 0.00082\n",
      "Epoch [14/50], Training Loss: 0.00064, Validation Loss: 0.00085\n",
      "Epoch [15/50], Training Loss: 0.00064, Validation Loss: 0.00085\n",
      "Epoch [16/50], Training Loss: 0.00065, Validation Loss: 0.00080\n",
      "Epoch [17/50], Training Loss: 0.00065, Validation Loss: 0.00084\n",
      "Epoch [18/50], Training Loss: 0.00062, Validation Loss: 0.00080\n",
      "Epoch [19/50], Training Loss: 0.00063, Validation Loss: 0.00080\n",
      "Epoch [20/50], Training Loss: 0.00062, Validation Loss: 0.00086\n",
      "Epoch [21/50], Training Loss: 0.00063, Validation Loss: 0.00083\n",
      "Epoch [22/50], Training Loss: 0.00064, Validation Loss: 0.00085\n",
      "Epoch [23/50], Training Loss: 0.00064, Validation Loss: 0.00083\n",
      "Epoch [24/50], Training Loss: 0.00063, Validation Loss: 0.00086\n",
      "Epoch [25/50], Training Loss: 0.00061, Validation Loss: 0.00081\n",
      "Epoch [26/50], Training Loss: 0.00063, Validation Loss: 0.00080\n",
      "Epoch [27/50], Training Loss: 0.00063, Validation Loss: 0.00081\n",
      "Epoch [28/50], Training Loss: 0.00062, Validation Loss: 0.00084\n",
      "Epoch [29/50], Training Loss: 0.00062, Validation Loss: 0.00081\n",
      "Epoch [30/50], Training Loss: 0.00061, Validation Loss: 0.00084\n",
      "Epoch [31/50], Training Loss: 0.00063, Validation Loss: 0.00082\n",
      "Epoch [32/50], Training Loss: 0.00062, Validation Loss: 0.00080\n",
      "Epoch [33/50], Training Loss: 0.00061, Validation Loss: 0.00080\n",
      "Epoch [34/50], Training Loss: 0.00062, Validation Loss: 0.00083\n",
      "Epoch [35/50], Training Loss: 0.00063, Validation Loss: 0.00085\n",
      "Epoch [36/50], Training Loss: 0.00064, Validation Loss: 0.00080\n",
      "Epoch [37/50], Training Loss: 0.00062, Validation Loss: 0.00082\n",
      "Epoch [38/50], Training Loss: 0.00060, Validation Loss: 0.00083\n",
      "Epoch [39/50], Training Loss: 0.00061, Validation Loss: 0.00080\n",
      "Epoch [40/50], Training Loss: 0.00061, Validation Loss: 0.00081\n",
      "Epoch [41/50], Training Loss: 0.00060, Validation Loss: 0.00085\n",
      "Epoch [42/50], Training Loss: 0.00062, Validation Loss: 0.00083\n",
      "Epoch [43/50], Training Loss: 0.00063, Validation Loss: 0.00082\n",
      "Epoch [44/50], Training Loss: 0.00061, Validation Loss: 0.00084\n",
      "Epoch [45/50], Training Loss: 0.00063, Validation Loss: 0.00079\n",
      "Epoch [46/50], Training Loss: 0.00062, Validation Loss: 0.00079\n",
      "Epoch [47/50], Training Loss: 0.00061, Validation Loss: 0.00082\n",
      "Epoch [48/50], Training Loss: 0.00062, Validation Loss: 0.00083\n",
      "Epoch [49/50], Training Loss: 0.00062, Validation Loss: 0.00081\n",
      "Epoch [50/50], Training Loss: 0.00060, Validation Loss: 0.00080\n"
     ]
    }
   ],
   "source": [
    "max_epochs = 100 #250\n",
    "\n",
    "for epoch in range(max_epochs):\n",
    "    model.train()\n",
    "    running_loss = 0.0\n",
    "\n",
    "    for x_batch, y_batch in dataloader_train:\n",
    "        optimizer.zero_grad()\n",
    "        outputs = model(x_batch)\n",
    "        loss = criterion(outputs, y_batch)\n",
    "        loss.backward()\n",
    "        optimizer.step()\n",
    "        running_loss += loss.item()\n",
    "\n",
    "    history[\"train_loss\"].append(running_loss)\n",
    "\n",
    "    model.eval()\n",
    "    running_val_loss = 0.0\n",
    "    with torch.no_grad():\n",
    "        for x_batch, y_batch in dataloader_valid:\n",
    "            val_outputs = model(x_batch)\n",
    "            val_loss = criterion(val_outputs, y_batch)\n",
    "            running_val_loss += val_loss.item()\n",
    "\n",
    "    history[\"valid_loss\"].append(running_val_loss)\n",
    "\n",
    "    print(f\"Epoch [{epoch+1}/{max_epochs}], Training Loss: {history['train_loss'][-1]:.5f}, Validation Loss: {history['valid_loss'][-1]:.5f}\")\n"
   ]
  },
  {
   "cell_type": "code",
   "execution_count": 396,
   "id": "d3ce390a",
   "metadata": {},
   "outputs": [
    {
     "name": "stdout",
     "output_type": "stream",
     "text": [
      "0.9157744532299433\n"
     ]
    }
   ],
   "source": [
    "model.eval()\n",
    "with torch.no_grad(): \n",
    "    output = model(data_train_x)\n",
    "print(r2_score(data_train_y, output))"
   ]
  },
  {
   "cell_type": "code",
   "execution_count": 397,
   "id": "82d3a3a2",
   "metadata": {},
   "outputs": [
    {
     "name": "stdout",
     "output_type": "stream",
     "text": [
      "0.894042705254972\n"
     ]
    }
   ],
   "source": [
    "model.eval()\n",
    "with torch.no_grad(): \n",
    "    output = model(data_valid_x)\n",
    "print(r2_score(data_valid_y, output))"
   ]
  },
  {
   "cell_type": "code",
   "execution_count": 392,
   "id": "8a41662e",
   "metadata": {},
   "outputs": [
    {
     "data": {
      "image/png": "[encoded data removed]",
      "text/plain": [
       "<Figure size 800x500 with 1 Axes>"
      ]
     },
     "metadata": {},
     "output_type": "display_data"
    }
   ],
   "source": [
    "train_loss = history[\"train_loss\"]\n",
    "valid_loss = history[\"valid_loss\"]\n",
    "epochs = range(1, len(train_loss) + 1)\n",
    "\n",
    "plt.figure(figsize=(8, 5))\n",
    "plt.plot(epochs, train_loss, label=\"Train Loss\")\n",
    "plt.plot(epochs, valid_loss, label=\"Validation Loss\")\n",
    "\n",
    "plt.xlabel(\"Epoch\")\n",
    "plt.ylabel(\"Loss\")\n",
    "plt.title(\"Training History\")\n",
    "plt.legend()\n",
    "plt.grid(True)"
   ]
  },
  {
   "cell_type": "code",
   "execution_count": 394,
   "id": "a7a29c5d",
   "metadata": {},
   "outputs": [],
   "source": [
    "torch.jit.script(model).save(\"../Model/model.pt\")"
   ]
  }
 ],
 "metadata": {
  "kernelspec": {
   "display_name": "ai4good",
   "language": "python",
   "name": "python3"
  },
  "language_info": {
   "codemirror_mode": {
    "name": "ipython",
    "version": 3
   },
   "file_extension": ".py",
   "mimetype": "text/x-python",
   "name": "python",
   "nbconvert_exporter": "python",
   "pygments_lexer": "ipython3",
   "version": "3.11.7"
  }
 },
 "nbformat": 4,
 "nbformat_minor": 5
}
