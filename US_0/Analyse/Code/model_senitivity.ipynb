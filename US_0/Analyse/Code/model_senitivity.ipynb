{
 "cells": [
  {
   "cell_type": "code",
   "execution_count": 40,
   "id": "e692c856",
   "metadata": {},
   "outputs": [],
   "source": [
    "import numpy as np\n",
    "import torch\n",
    "import torch.nn as nn\n",
    "import torch.nn.functional as F\n",
    "import shap\n",
    "\n",
    "np.random.seed(42)"
   ]
  },
  {
   "cell_type": "code",
   "execution_count": 41,
   "id": "88dee9eb",
   "metadata": {},
   "outputs": [],
   "source": [
    "years = np.array(range(2012, 2024))\n",
    "features = [\"18 to 64 years poverty [%]\", \"18 years and over [%]\",\n",
    "    \"65 years and over [%]\", \"65 years and over poverty [%]\",\n",
    "    \"All parents in family in labor force [%]\",\n",
    "    \"American Indian and Alaska Native [%]\", \"Armed Forces [%]\",\n",
    "    \"Asian [%]\", \"Black or African American [%]\",\n",
    "    \"Civilian labor force [%]\", \"Commuting: individual car [%]\",\n",
    "    \"Commuting: public transport [%]\", \"Commuting: work from home [%]\",\n",
    "    \"Education: 9th-12th (no diploma) [%]\", \"Education: <9th grade [%]\",\n",
    "    \"Education: associate's degree [%]\", \"Education: bachelor's degree [%]\",\n",
    "    \"Education: bachelor's degree or higher [%]\",\n",
    "    \"Education: graduate or professional degree [%]\",\n",
    "    \"Education: high school graduate [%]\",\n",
    "    \"Education: high school graduate or higher [%]\",\n",
    "    \"Education: some college (no degree) [%]\",\n",
    "    \"Female civilian labor force [%]\", \"Foreign-born [%]\",\n",
    "    \"Foreign-born: naturalized [%]\", \"Gross rent <25% of income [%]\",\n",
    "    \"Gross rent >=25% of income [%]\",\n",
    "    \"Health insurance coverage (noninstitutionalized) [%]\",\n",
    "    \"Hispanic or Latino [%]\", \"Homeowner vacancy rate [%]\",\n",
    "    \"Households: Female (no spouse) [%]\",\n",
    "    \"Households: Male (no spouse) [%]\", \"Households: married-couple [%]\",\n",
    "    \"Households: with broadband [%]\", \"Households: with computer [%]\",\n",
    "    \"Housing units with a mortgage [%]\",\n",
    "    \"Labor force by industry: agriculture, forestry, fishing, hunting, mining [%]\",\n",
    "    \"Labor force by industry: arts, entertainment, recreation, accommodation, food services [%]\",\n",
    "    \"Labor force by industry: construction [%]\",\n",
    "    \"Labor force by industry: education, health care, social assistance [%]\",\n",
    "    \"Labor force by industry: finance, insurance, real estate, rental, leasing [%]\",\n",
    "    \"Labor force by industry: information [%]\",\n",
    "    \"Labor force by industry: manufacturing [%]\",\n",
    "    \"Labor force by industry: other services [%]\",\n",
    "    \"Labor force by industry: professional, scientific, management, admin, waste management services [%]\",\n",
    "    \"Labor force by industry: public administration [%]\",\n",
    "    \"Labor force by industry: retail trade [%]\",\n",
    "    \"Labor force by industry: transportation, warehousing, utilities [%]\",\n",
    "    \"Labor force by industry: wholesale trade [%]\", \"Land area (km²)\",\n",
    "    \"Limited English speakers [%]\", \"Male [%]\",\n",
    "    \"Mean travel time to work (min)\", \"Median age\",\n",
    "    \"Median full-time earnings gender ratio (F/M) [%]\",\n",
    "    \"Median household income ($)\", \"Moved: different county [%]\",\n",
    "    \"Moved: different house [%]\", \"Moved: different state [%]\",\n",
    "    \"Moved: within U.S. [%]\",\n",
    "    \"Owner costs <25% of income (with mortgage) [%]\",\n",
    "    \"Owner costs <25% of income (without mortgage) [%]\",\n",
    "    \"Owner costs >=25% of income (with mortgage) [%]\",\n",
    "    \"Owner costs >=25% of income (without mortgage) [%]\",\n",
    "    \"Rental vacancy rate [%]\", \"Total households\", \"Total housing units\",\n",
    "    \"Total population\", \"Under 18 years poverty [%]\",\n",
    "    \"Unemployment Rate [%]\", \"Vacant housing units [%]\", \"Water area (km²)\",\n",
    "    \"White [%]\"]"
   ]
  },
  {
   "cell_type": "code",
   "execution_count": 42,
   "id": "f37593a7",
   "metadata": {},
   "outputs": [],
   "source": [
    "class RNN_Regressor(nn.Module):\n",
    "    def __init__(self, input_size, output_size):\n",
    "        super().__init__()\n",
    "\n",
    "        lstm_hidden_size = 32\n",
    "        hidden_size = 4\n",
    "\n",
    "        self.lstm = nn.LSTM(input_size=input_size, hidden_size=lstm_hidden_size, batch_first=True)\n",
    "\n",
    "        self.dense1 = nn.Linear(lstm_hidden_size, hidden_size)\n",
    "        self.dense2 = nn.Linear(hidden_size, output_size)\n",
    "\n",
    "        \n",
    "\n",
    "    def forward(self, input):\n",
    "        x = F.dropout(input, p=0.35, training=self.training)\n",
    "\n",
    "        x, _ = self.lstm(x)\n",
    "        x = x[:, -1, :]\n",
    "\n",
    "        x = self.dense1(x)\n",
    "        x = F.leaky_relu(x)\n",
    "\n",
    "        x = self.dense2(x)\n",
    "        x = F.sigmoid(x)\n",
    "\n",
    "        return x"
   ]
  },
  {
   "cell_type": "code",
   "execution_count": 43,
   "id": "f40f058f",
   "metadata": {},
   "outputs": [],
   "source": [
    "def data_by_year(dict_x):\n",
    "    all_keys = list(dict_x.keys())\n",
    "    data_by_year_x = []\n",
    "\n",
    "    for y in range(len(years)):\n",
    "        data_year_x = []\n",
    "        for id in all_keys:\n",
    "            data_year_x.append(dict_x[id][y])\n",
    "        tensor_x = torch.tensor(np.stack(data_year_x), dtype=torch.float32)\n",
    "        data_by_year_x.append(tensor_x)\n",
    "\n",
    "    print(len(data_by_year_x), data_by_year_x[0].shape)\n",
    "\n",
    "    return data_by_year_x"
   ]
  },
  {
   "cell_type": "code",
   "execution_count": 44,
   "id": "417fdd8e",
   "metadata": {},
   "outputs": [
    {
     "name": "stdout",
     "output_type": "stream",
     "text": [
      "12 torch.Size([3096, 3, 73])\n"
     ]
    },
    {
     "data": {
      "text/plain": [
       "RNN_Regressor(\n",
       "  (lstm): LSTM(73, 32, batch_first=True)\n",
       "  (dense1): Linear(in_features=32, out_features=4, bias=True)\n",
       "  (dense2): Linear(in_features=4, out_features=1, bias=True)\n",
       ")"
      ]
     },
     "execution_count": 44,
     "metadata": {},
     "output_type": "execute_result"
    }
   ],
   "source": [
    "loaded = np.load(\"../../Data/Data/data_x.npz\", allow_pickle=True)\n",
    "dict_x = {key: loaded[key] for key in loaded.files}\n",
    "\n",
    "data_by_year_x = data_by_year(dict_x)\n",
    "\n",
    "model = RNN_Regressor(data_by_year_x[0].shape[2], 1)\n",
    "incompat  = model.load_state_dict(torch.load(\"../../Model/Model/model.pt\"))\n",
    "model.eval()"
   ]
  },
  {
   "cell_type": "code",
   "execution_count": 45,
   "id": "49fb3f66",
   "metadata": {},
   "outputs": [],
   "source": [
    "all_data_x = torch.tensor(np.array([arr for sublist in dict_x.values() for arr in sublist]), dtype=torch.float32)\n",
    "\n",
    "background_size = 1\n",
    "idx = np.random.choice(all_data_x.shape[0], size=background_size, replace=False)\n",
    "background = all_data_x[idx]\n",
    "\n",
    "explainer = shap.GradientExplainer(model, background)"
   ]
  },
  {
   "cell_type": "code",
   "execution_count": 46,
   "id": "a3a6264e",
   "metadata": {},
   "outputs": [],
   "source": [
    "def sensitivity_analysis(data_by_x):\n",
    "    shap_values_list = []\n",
    "    i = 1\n",
    "\n",
    "    for data_x in data_by_x:\n",
    "        shap_values = explainer.shap_values(data_x, rseed=42)\n",
    "        shap_values_list.append(shap_values.squeeze(axis=-1))\n",
    "        print(f\"Processing item {i}/{len(data_by_x)} ({(i / len(data_by_x)) * 100:.1f}%)\")\n",
    "        i += 1\n",
    "\n",
    "    return np.array(shap_values_list)"
   ]
  },
  {
   "cell_type": "code",
   "execution_count": 47,
   "id": "84f1cdb4",
   "metadata": {},
   "outputs": [
    {
     "name": "stdout",
     "output_type": "stream",
     "text": [
      "Processing item 1/2 (50.0%)\n",
      "Processing item 2/2 (100.0%)\n"
     ]
    }
   ],
   "source": [
    "shap_by_year = sensitivity_analysis(data_by_year_x[:2])"
   ]
  },
  {
   "cell_type": "code",
   "execution_count": 49,
   "id": "588b2ed6",
   "metadata": {},
   "outputs": [
    {
     "data": {
      "text/plain": [
       "(2, 3096, 3, 73)"
      ]
     },
     "execution_count": 49,
     "metadata": {},
     "output_type": "execute_result"
    }
   ],
   "source": [
    "shap_by_year.shape"
   ]
  }
 ],
 "metadata": {
  "kernelspec": {
   "display_name": "ai4good",
   "language": "python",
   "name": "python3"
  },
  "language_info": {
   "codemirror_mode": {
    "name": "ipython",
    "version": 3
   },
   "file_extension": ".py",
   "mimetype": "text/x-python",
   "name": "python",
   "nbconvert_exporter": "python",
   "pygments_lexer": "ipython3",
   "version": "3.11.7"
  }
 },
 "nbformat": 4,
 "nbformat_minor": 5
}
