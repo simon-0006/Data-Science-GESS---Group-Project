{
 "cells": [
  {
   "cell_type": "code",
   "execution_count": 3,
   "id": "29c020ba",
   "metadata": {},
   "outputs": [],
   "source": [
    "import pandas as pd\n",
    "import numpy as np\n",
    "from numpy.lib.stride_tricks import sliding_window_view\n",
    "from sklearn.preprocessing import StandardScaler\n",
    "from sklearn.preprocessing import MinMaxScaler"
   ]
  },
  {
   "cell_type": "code",
   "execution_count": 4,
   "id": "8b39299d",
   "metadata": {},
   "outputs": [],
   "source": [
    "years = list(range(2010, 2024))\n",
    "data_list = []\n",
    "for i in years:\n",
    "    df = pd.read_csv(\"../../Data/Data/data_\" + str(i) + \".csv\")\n",
    "    df[\"year\"] = i\n",
    "    data_list.append(df)"
   ]
  },
  {
   "cell_type": "code",
   "execution_count": 5,
   "id": "9c2c9534",
   "metadata": {},
   "outputs": [],
   "source": [
    "nan_df = data_list[0][[\"GEOIDFQ\", \"NaN count\"]].rename(columns={\"NaN count\": \"NaN count sum\"})\n",
    "\n",
    "for i in range(1, len(years)):\n",
    "    df = data_list[i][['GEOIDFQ', 'NaN count']]\n",
    "    nan_df = nan_df.merge(df, on='GEOIDFQ', how='inner')\n",
    "    nan_df[\"NaN count sum\"] += nan_df[\"NaN count\"]\n",
    "    nan_df = nan_df.drop(\"NaN count\", axis=1)\n",
    "\n",
    "county_df = nan_df.drop(nan_df.nlargest(3, \"NaN count sum\").index)[\"GEOIDFQ\"]"
   ]
  },
  {
   "cell_type": "code",
   "execution_count": 6,
   "id": "96e4db33",
   "metadata": {},
   "outputs": [],
   "source": [
    "df_combined = pd.concat(data_list, axis=0, ignore_index=True)\n",
    "df_combined = df_combined.drop(\"NaN count\", axis=1)\n",
    "\n",
    "df_filtered = df_combined[df_combined[\"GEOIDFQ\"].isin(county_df)]"
   ]
  },
  {
   "cell_type": "code",
   "execution_count": 11,
   "id": "96ae1fc5",
   "metadata": {},
   "outputs": [
    {
     "data": {
      "text/plain": [
       "73"
      ]
     },
     "execution_count": 11,
     "metadata": {},
     "output_type": "execute_result"
    }
   ],
   "source": [
    "target = \"Median household income ($)\" # \"Owner-occupied [%]\"\n",
    "features = df_combined.columns.difference([\"GEOIDFQ\", \"year\", target])\n",
    "\n",
    "len(features)"
   ]
  },
  {
   "cell_type": "code",
   "execution_count": 10,
   "id": "d5ca34c2",
   "metadata": {},
   "outputs": [
    {
     "data": {
      "text/plain": [
       "(43344, 76)"
      ]
     },
     "execution_count": 10,
     "metadata": {},
     "output_type": "execute_result"
    }
   ],
   "source": [
    "scaler_x = StandardScaler()\n",
    "scaler_y = MinMaxScaler()\n",
    "\n",
    "df_norm = df_filtered.copy()\n",
    "\n",
    "df_norm[features] = scaler_x.fit_transform(df_norm[features])\n",
    "df_norm[target] = scaler_y.fit_transform(df_norm[[target]])\n",
    "\n",
    "df_norm.shape"
   ]
  },
  {
   "cell_type": "code",
   "execution_count": 13,
   "id": "15d73c77",
   "metadata": {},
   "outputs": [],
   "source": [
    "window_size = 3\n",
    "\n",
    "df_geoid = df_norm[df_norm[\"GEOIDFQ\"].isin(county_df)].sort_values([\"GEOIDFQ\", \"year\"])\n",
    "\n",
    "windows = {}\n",
    "targets = {}\n",
    "\n",
    "for id, group in df_geoid.groupby(\"GEOIDFQ\"):\n",
    "        features_x_df = group[features].to_numpy()\n",
    "        features_y_df = group[target].to_numpy()[window_size-1:]\n",
    "\n",
    "        window = sliding_window_view(features_x_df, (window_size, features_x_df.shape[1]))[:, 0, :]\n",
    "\n",
    "        windows[id] = window\n",
    "        targets[id] = features_y_df"
   ]
  }
 ],
 "metadata": {
  "kernelspec": {
   "display_name": "ai4good",
   "language": "python",
   "name": "python3"
  },
  "language_info": {
   "codemirror_mode": {
    "name": "ipython",
    "version": 3
   },
   "file_extension": ".py",
   "mimetype": "text/x-python",
   "name": "python",
   "nbconvert_exporter": "python",
   "pygments_lexer": "ipython3",
   "version": "3.11.7"
  }
 },
 "nbformat": 4,
 "nbformat_minor": 5
}
