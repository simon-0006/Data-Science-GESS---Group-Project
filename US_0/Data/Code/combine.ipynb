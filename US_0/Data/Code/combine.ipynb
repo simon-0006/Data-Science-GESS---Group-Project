{
 "cells": [
  {
   "cell_type": "code",
   "execution_count": 40,
   "id": "0456a59d",
   "metadata": {},
   "outputs": [],
   "source": [
    "import pandas as pd\n",
    "import numpy as np\n",
    "from numpy.lib.stride_tricks import sliding_window_view\n",
    "from sklearn.preprocessing import StandardScaler\n",
    "from sklearn.preprocessing import MinMaxScaler"
   ]
  },
  {
   "cell_type": "code",
   "execution_count": 41,
   "id": "2cde76b4",
   "metadata": {},
   "outputs": [],
   "source": [
    "years = list(range(2010, 2024))\n",
    "data_list = []\n",
    "for i in years:\n",
    "    df = pd.read_csv(\"../Data/data_\" + str(i) + \".csv\")\n",
    "    df[\"year\"] = i\n",
    "    data_list.append(df)"
   ]
  },
  {
   "cell_type": "code",
   "execution_count": 42,
   "id": "cc15958b",
   "metadata": {},
   "outputs": [
    {
     "name": "stdout",
     "output_type": "stream",
     "text": [
      "(3096,)\n",
      "(619,)\n",
      "(2477,)\n"
     ]
    }
   ],
   "source": [
    "nan_df = data_list[0][[\"GEOIDFQ\", \"NaN count\"]].rename(columns={\"NaN count\": \"NaN count sum\"})\n",
    "\n",
    "for i in range(1, len(years)):\n",
    "    df = data_list[i][['GEOIDFQ', 'NaN count']]\n",
    "    nan_df = nan_df.merge(df, on='GEOIDFQ', how='inner')\n",
    "    nan_df[\"NaN count sum\"] += nan_df[\"NaN count\"]\n",
    "    nan_df = nan_df.drop(\"NaN count\", axis=1)\n",
    "\n",
    "county_df = nan_df.drop(nan_df.nlargest(3, \"NaN count sum\").index)[\"GEOIDFQ\"]\n",
    "\n",
    "county_valid_df = county_df.sample(frac=0.2, random_state=42)\n",
    "county_train_df = county_df[~county_df.isin(county_valid_df)]\n",
    "\n",
    "print(county_df.shape)\n",
    "print(county_valid_df.shape)\n",
    "print(county_train_df.shape)"
   ]
  },
  {
   "cell_type": "code",
   "execution_count": 43,
   "id": "d6547828",
   "metadata": {},
   "outputs": [
    {
     "data": {
      "text/plain": [
       "(43518, 76)"
      ]
     },
     "execution_count": 43,
     "metadata": {},
     "output_type": "execute_result"
    }
   ],
   "source": [
    "df_combined = pd.concat(data_list, axis=0, ignore_index=True)\n",
    "df_combined = df_combined.drop(\"NaN count\", axis=1)\n",
    "\n",
    "df_combined.shape"
   ]
  },
  {
   "cell_type": "code",
   "execution_count": 44,
   "id": "c4a99b23",
   "metadata": {},
   "outputs": [],
   "source": [
    "target = \"Median household income ($)\" # \"Owner-occupied [%]\""
   ]
  },
  {
   "cell_type": "code",
   "execution_count": 45,
   "id": "e3e6653c",
   "metadata": {},
   "outputs": [],
   "source": [
    "window_size = 3"
   ]
  },
  {
   "cell_type": "code",
   "execution_count": 46,
   "id": "56086528",
   "metadata": {},
   "outputs": [
    {
     "data": {
      "text/plain": [
       "73"
      ]
     },
     "execution_count": 46,
     "metadata": {},
     "output_type": "execute_result"
    }
   ],
   "source": [
    "features = df_combined.columns.difference([\"GEOIDFQ\", \"year\", target])\n",
    "\n",
    "len(features)"
   ]
  },
  {
   "cell_type": "code",
   "execution_count": 47,
   "id": "c5f0e4b8",
   "metadata": {},
   "outputs": [
    {
     "data": {
      "text/plain": [
       "(43344, 76)"
      ]
     },
     "execution_count": 47,
     "metadata": {},
     "output_type": "execute_result"
    }
   ],
   "source": [
    "df_filtered = df_combined[df_combined[\"GEOIDFQ\"].isin(county_df)]\n",
    "\n",
    "df_filtered.shape"
   ]
  },
  {
   "cell_type": "code",
   "execution_count": 48,
   "id": "cab7963a",
   "metadata": {},
   "outputs": [
    {
     "data": {
      "text/plain": [
       "(43344, 76)"
      ]
     },
     "execution_count": 48,
     "metadata": {},
     "output_type": "execute_result"
    }
   ],
   "source": [
    "scaler_x = StandardScaler()\n",
    "scaler_y = MinMaxScaler()\n",
    "\n",
    "df_norm = df_filtered.copy()\n",
    "\n",
    "df_norm[features] = scaler_x.fit_transform(df_norm[features])\n",
    "df_norm[target] = scaler_y.fit_transform(df_norm[[target]])\n",
    "\n",
    "df_norm.shape"
   ]
  },
  {
   "cell_type": "code",
   "execution_count": 49,
   "id": "69ef17de",
   "metadata": {},
   "outputs": [],
   "source": [
    "df_vaild = df_norm[df_norm[\"GEOIDFQ\"].isin(county_valid_df)].sort_values([\"GEOIDFQ\", \"year\"])\n",
    "\n",
    "windows_valid = []\n",
    "targets_valid = []\n",
    "\n",
    "for id, group in df_vaild.groupby(\"GEOIDFQ\"):\n",
    "        features_x_df = group[features].to_numpy()\n",
    "        features_y_df = group[target].to_numpy()[window_size-1:]\n",
    "\n",
    "        window = sliding_window_view(features_x_df, (window_size, features_x_df.shape[1]))[:, 0, :]\n",
    "        windows_valid.append(window)\n",
    "        targets_valid.append(features_y_df)"
   ]
  },
  {
   "cell_type": "code",
   "execution_count": 50,
   "id": "b21b8d5d",
   "metadata": {},
   "outputs": [],
   "source": [
    "df_train = df_norm[df_norm[\"GEOIDFQ\"].isin(county_train_df)].sort_values([\"GEOIDFQ\", \"year\"])\n",
    "\n",
    "windows_train = []\n",
    "targets_train = []\n",
    "\n",
    "for id, group in df_train.groupby(\"GEOIDFQ\"):\n",
    "        features_x_df = group[features].to_numpy()\n",
    "        features_y_df = group[target].to_numpy()[window_size-1:]\n",
    "\n",
    "        window = sliding_window_view(features_x_df, (window_size, features_x_df.shape[1]))[:, 0, :]\n",
    "        windows_train.append(window)\n",
    "        targets_train.append(features_y_df)"
   ]
  },
  {
   "cell_type": "code",
   "execution_count": 51,
   "id": "df3778bd",
   "metadata": {},
   "outputs": [
    {
     "name": "stdout",
     "output_type": "stream",
     "text": [
      "(7428, 3, 73) (7428,)\n",
      "(29724, 3, 73) (29724,)\n",
      "(37152, 3, 73) (37152,)\n"
     ]
    }
   ],
   "source": [
    "data_valid_x = np.vstack(windows_valid)\n",
    "data_valid_y = np.concatenate(targets_valid)\n",
    "data_train_x = np.vstack(windows_train)\n",
    "data_train_y = np.concatenate(targets_train)\n",
    "data_x = np.concatenate([data_valid_x, data_train_x], axis=0)\n",
    "data_y = np.concatenate([data_valid_y, data_train_y], axis=0)\n",
    "\n",
    "print(data_valid_x.shape, data_valid_y.shape)\n",
    "print(data_train_x.shape, data_train_y.shape)\n",
    "print(data_x.shape, data_y.shape)"
   ]
  },
  {
   "cell_type": "code",
   "execution_count": 52,
   "id": "6d97e71b",
   "metadata": {},
   "outputs": [],
   "source": [
    "np.save(\"../Data/data_valid_x_\" + target + \".npy\", data_valid_x)\n",
    "np.save(\"../Data/data_valid_y_\" + target + \".npy\", data_valid_y)\n",
    "np.save(\"../Data/data_train_x_\" + target + \".npy\", data_train_x)\n",
    "np.save(\"../Data/data_train_y_\" + target + \".npy\", data_train_y)\n",
    "np.save(\"../Data/data_x_\" + target + \".npy\", data_x)\n",
    "np.save(\"../Data/data_y_\" + target + \".npy\", data_y)"
   ]
  }
 ],
 "metadata": {
  "kernelspec": {
   "display_name": "ai4good",
   "language": "python",
   "name": "python3"
  },
  "language_info": {
   "codemirror_mode": {
    "name": "ipython",
    "version": 3
   },
   "file_extension": ".py",
   "mimetype": "text/x-python",
   "name": "python",
   "nbconvert_exporter": "python",
   "pygments_lexer": "ipython3",
   "version": "3.11.7"
  }
 },
 "nbformat": 4,
 "nbformat_minor": 5
}
