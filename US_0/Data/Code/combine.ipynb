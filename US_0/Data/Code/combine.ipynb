{
 "cells": [
  {
   "cell_type": "code",
   "execution_count": 1,
   "id": "0456a59d",
   "metadata": {},
   "outputs": [],
   "source": [
    "import pandas as pd\n",
    "import numpy as np\n",
    "import joblib\n",
    "from numpy.lib.stride_tricks import sliding_window_view\n",
    "from sklearn.preprocessing import StandardScaler\n",
    "from sklearn.preprocessing import MinMaxScaler"
   ]
  },
  {
   "cell_type": "code",
   "execution_count": 2,
   "id": "2cde76b4",
   "metadata": {},
   "outputs": [],
   "source": [
    "years = list(range(2010, 2024))\n",
    "data_list = []\n",
    "for i in years:\n",
    "    df = pd.read_csv(\"../Data/data_\" + str(i) + \".csv\")\n",
    "    df[\"year\"] = i\n",
    "    data_list.append(df)"
   ]
  },
  {
   "cell_type": "code",
   "execution_count": 3,
   "id": "cc15958b",
   "metadata": {},
   "outputs": [
    {
     "name": "stdout",
     "output_type": "stream",
     "text": [
      "(3096,)\n"
     ]
    }
   ],
   "source": [
    "nan_df = data_list[0][[\"GEOIDFQ\", \"NaN count\"]].rename(columns={\"NaN count\": \"NaN count sum\"})\n",
    "\n",
    "for i in range(1, len(years)):\n",
    "    df = data_list[i][['GEOIDFQ', 'NaN count']]\n",
    "    nan_df = nan_df.merge(df, on='GEOIDFQ', how='inner')\n",
    "    nan_df[\"NaN count sum\"] += nan_df[\"NaN count\"]\n",
    "    nan_df = nan_df.drop(\"NaN count\", axis=1)\n",
    "\n",
    "county_df = nan_df.drop(nan_df.nlargest(3, \"NaN count sum\").index)[\"GEOIDFQ\"]\n",
    "\n",
    "print(county_df.shape)"
   ]
  },
  {
   "cell_type": "code",
   "execution_count": 4,
   "id": "d6547828",
   "metadata": {},
   "outputs": [
    {
     "data": {
      "text/plain": [
       "(43518, 76)"
      ]
     },
     "execution_count": 4,
     "metadata": {},
     "output_type": "execute_result"
    }
   ],
   "source": [
    "df_combined = pd.concat(data_list, axis=0, ignore_index=True)\n",
    "df_combined = df_combined.drop(\"NaN count\", axis=1)\n",
    "\n",
    "df_combined.shape"
   ]
  },
  {
   "cell_type": "code",
   "execution_count": 5,
   "id": "c5f0e4b8",
   "metadata": {},
   "outputs": [
    {
     "data": {
      "text/plain": [
       "(43344, 76)"
      ]
     },
     "execution_count": 5,
     "metadata": {},
     "output_type": "execute_result"
    }
   ],
   "source": [
    "df_filtered = df_combined[df_combined[\"GEOIDFQ\"].isin(county_df)]\n",
    "\n",
    "df_filtered.shape"
   ]
  },
  {
   "cell_type": "code",
   "execution_count": 6,
   "id": "56086528",
   "metadata": {},
   "outputs": [
    {
     "data": {
      "text/plain": [
       "73"
      ]
     },
     "execution_count": 6,
     "metadata": {},
     "output_type": "execute_result"
    }
   ],
   "source": [
    "target = \"Median household income ($)\"\n",
    "features = df_filtered.columns.difference([\"GEOIDFQ\", \"year\", target])\n",
    "\n",
    "len(features)"
   ]
  },
  {
   "cell_type": "code",
   "execution_count": 7,
   "id": "173f13ae",
   "metadata": {},
   "outputs": [
    {
     "name": "stdout",
     "output_type": "stream",
     "text": [
      "Index(['18 to 64 years poverty [%]', '18 years and over [%]',\n",
      "       '65 years and over [%]', '65 years and over poverty [%]',\n",
      "       'All parents in family in labor force [%]',\n",
      "       'American Indian and Alaska Native [%]', 'Armed Forces [%]',\n",
      "       'Asian [%]', 'Black or African American [%]',\n",
      "       'Civilian labor force [%]', 'Commuting: individual car [%]',\n",
      "       'Commuting: public transport [%]', 'Commuting: work from home [%]',\n",
      "       'Education: 9th-12th (no diploma) [%]', 'Education: <9th grade [%]',\n",
      "       'Education: associate's degree [%]', 'Education: bachelor's degree [%]',\n",
      "       'Education: bachelor's degree or higher [%]',\n",
      "       'Education: graduate or professional degree [%]',\n",
      "       'Education: high school graduate [%]',\n",
      "       'Education: high school graduate or higher [%]',\n",
      "       'Education: some college (no degree) [%]',\n",
      "       'Female civilian labor force [%]', 'Foreign-born [%]',\n",
      "       'Foreign-born: naturalized [%]', 'Gross rent <25% of income [%]',\n",
      "       'Gross rent >=25% of income [%]',\n",
      "       'Health insurance coverage (noninstitutionalized) [%]',\n",
      "       'Hispanic or Latino [%]', 'Homeowner vacancy rate [%]',\n",
      "       'Households: Female (no spouse) [%]',\n",
      "       'Households: Male (no spouse) [%]', 'Households: married-couple [%]',\n",
      "       'Households: with broadband [%]', 'Households: with computer [%]',\n",
      "       'Housing units with a mortgage [%]',\n",
      "       'Labor force by industry: agriculture, forestry, fishing, hunting, mining [%]',\n",
      "       'Labor force by industry: arts, entertainment, recreation, accommodation, food services [%]',\n",
      "       'Labor force by industry: construction [%]',\n",
      "       'Labor force by industry: education, health care, social assistance [%]',\n",
      "       'Labor force by industry: finance, insurance, real estate, rental, leasing [%]',\n",
      "       'Labor force by industry: information [%]',\n",
      "       'Labor force by industry: manufacturing [%]',\n",
      "       'Labor force by industry: other services [%]',\n",
      "       'Labor force by industry: professional, scientific, management, admin, waste management services [%]',\n",
      "       'Labor force by industry: public administration [%]',\n",
      "       'Labor force by industry: retail trade [%]',\n",
      "       'Labor force by industry: transportation, warehousing, utilities [%]',\n",
      "       'Labor force by industry: wholesale trade [%]', 'Land area (km²)',\n",
      "       'Limited English speakers [%]', 'Male [%]',\n",
      "       'Mean travel time to work (min)', 'Median age',\n",
      "       'Median full-time earnings gender ratio (F/M) [%]',\n",
      "       'Moved: different county [%]', 'Moved: different house [%]',\n",
      "       'Moved: different state [%]', 'Moved: within U.S. [%]',\n",
      "       'Owner costs <25% of income (with mortgage) [%]',\n",
      "       'Owner costs <25% of income (without mortgage) [%]',\n",
      "       'Owner costs >=25% of income (with mortgage) [%]',\n",
      "       'Owner costs >=25% of income (without mortgage) [%]',\n",
      "       'Owner-occupied [%]', 'Rental vacancy rate [%]', 'Total households',\n",
      "       'Total housing units', 'Total population', 'Under 18 years poverty [%]',\n",
      "       'Unemployment Rate [%]', 'Vacant housing units [%]', 'Water area (km²)',\n",
      "       'White [%]'],\n",
      "      dtype='object')\n"
     ]
    }
   ],
   "source": [
    "print(features)"
   ]
  },
  {
   "cell_type": "code",
   "execution_count": 8,
   "id": "cab7963a",
   "metadata": {},
   "outputs": [
    {
     "data": {
      "text/plain": [
       "(43344, 76)"
      ]
     },
     "execution_count": 8,
     "metadata": {},
     "output_type": "execute_result"
    }
   ],
   "source": [
    "scaler_x = StandardScaler()\n",
    "scaler_y = MinMaxScaler()\n",
    "\n",
    "df_norm = df_filtered.copy()\n",
    "\n",
    "df_norm[features] = scaler_x.fit_transform(df_norm[features])\n",
    "df_norm[target] = scaler_y.fit_transform(df_norm[[target]])\n",
    "\n",
    "df_norm.shape"
   ]
  },
  {
   "cell_type": "code",
   "execution_count": 9,
   "id": "791dc301",
   "metadata": {},
   "outputs": [
    {
     "data": {
      "text/plain": [
       "['../Data/scaler_y.pkl']"
      ]
     },
     "execution_count": 9,
     "metadata": {},
     "output_type": "execute_result"
    }
   ],
   "source": [
    "joblib.dump(scaler_y, \"../Data/scaler_y.pkl\")"
   ]
  },
  {
   "cell_type": "code",
   "execution_count": 10,
   "id": "69ef17de",
   "metadata": {},
   "outputs": [
    {
     "name": "stdout",
     "output_type": "stream",
     "text": [
      "3096 (12, 3, 73) 37152\n"
     ]
    }
   ],
   "source": [
    "window_size = 3\n",
    "\n",
    "df_geoid = df_norm[df_norm[\"GEOIDFQ\"].isin(county_df)].sort_values([\"GEOIDFQ\", \"year\"])\n",
    "\n",
    "windows = {}\n",
    "targets = {}\n",
    "\n",
    "for id, group in df_geoid.groupby(\"GEOIDFQ\"):\n",
    "        features_x_df = group[features].to_numpy()\n",
    "        features_y_df = group[target].to_numpy()[window_size-1:]\n",
    "\n",
    "        window = sliding_window_view(features_x_df, (window_size, features_x_df.shape[1]))[:, 0, :]\n",
    "\n",
    "        windows[id] = window\n",
    "        targets[id] = features_y_df\n",
    "\n",
    "print(len(windows), windows[\"0500000US28107\"].shape, len(windows) * windows[\"0500000US28107\"].shape[0] )"
   ]
  },
  {
   "cell_type": "code",
   "execution_count": 11,
   "id": "c625b3e9",
   "metadata": {},
   "outputs": [],
   "source": [
    "np.savez(\"../Data/data_x.npz\", **windows)\n",
    "np.savez(\"../Data/data_y.npz\", **targets)"
   ]
  }
 ],
 "metadata": {
  "kernelspec": {
   "display_name": "ai4good",
   "language": "python",
   "name": "python3"
  },
  "language_info": {
   "codemirror_mode": {
    "name": "ipython",
    "version": 3
   },
   "file_extension": ".py",
   "mimetype": "text/x-python",
   "name": "python",
   "nbconvert_exporter": "python",
   "pygments_lexer": "ipython3",
   "version": "3.11.7"
  }
 },
 "nbformat": 4,
 "nbformat_minor": 5
}
