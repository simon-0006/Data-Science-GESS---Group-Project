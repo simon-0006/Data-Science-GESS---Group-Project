{
 "cells": [
  {
   "cell_type": "code",
   "execution_count": 328,
   "id": "0456a59d",
   "metadata": {},
   "outputs": [],
   "source": [
    "import pandas as pd\n",
    "import numpy as np\n",
    "from numpy.lib.stride_tricks import sliding_window_view\n",
    "from sklearn.preprocessing import StandardScaler\n",
    "from sklearn.preprocessing import MinMaxScaler"
   ]
  },
  {
   "cell_type": "code",
   "execution_count": 329,
   "id": "2cde76b4",
   "metadata": {},
   "outputs": [],
   "source": [
    "years = list(range(2010, 2024))\n",
    "data_list = []\n",
    "for i in years:\n",
    "    df = pd.read_csv(\"../Data/data_\" + str(i) + \".csv\")\n",
    "    df[\"year\"] = i\n",
    "    data_list.append(df)"
   ]
  },
  {
   "cell_type": "code",
   "execution_count": 330,
   "id": "cc15958b",
   "metadata": {},
   "outputs": [
    {
     "data": {
      "text/plain": [
       "(3096,)"
      ]
     },
     "execution_count": 330,
     "metadata": {},
     "output_type": "execute_result"
    }
   ],
   "source": [
    "nan_df = data_list[0][[\"GEOIDFQ\", \"NaN count\"]].rename(columns={\"NaN count\": \"NaN count sum\"})\n",
    "\n",
    "for i in range(1, len(years)):\n",
    "    df = data_list[i][['GEOIDFQ', 'NaN count']]\n",
    "    nan_df = nan_df.merge(df, on='GEOIDFQ', how='inner')\n",
    "    nan_df[\"NaN count sum\"] += nan_df[\"NaN count\"]\n",
    "    nan_df = nan_df.drop(\"NaN count\", axis=1)\n",
    "\n",
    "county_df = nan_df.drop(nan_df.nlargest(3, \"NaN count sum\").index)[\"GEOIDFQ\"]\n",
    "\n",
    "county_df.shape"
   ]
  },
  {
   "cell_type": "code",
   "execution_count": 331,
   "id": "d6547828",
   "metadata": {},
   "outputs": [
    {
     "data": {
      "text/plain": [
       "(43518, 76)"
      ]
     },
     "execution_count": 331,
     "metadata": {},
     "output_type": "execute_result"
    }
   ],
   "source": [
    "df_combined = pd.concat(data_list, axis=0, ignore_index=True)\n",
    "df_combined = df_combined.drop(\"NaN count\", axis=1)\n",
    "\n",
    "df_combined.shape"
   ]
  },
  {
   "cell_type": "code",
   "execution_count": 332,
   "id": "c5f0e4b8",
   "metadata": {},
   "outputs": [
    {
     "data": {
      "text/plain": [
       "(43344, 76)"
      ]
     },
     "execution_count": 332,
     "metadata": {},
     "output_type": "execute_result"
    }
   ],
   "source": [
    "df_filtered = df_combined[df_combined[\"GEOIDFQ\"].isin(county_df)]\n",
    "\n",
    "df_filtered.shape"
   ]
  },
  {
   "cell_type": "code",
   "execution_count": 333,
   "id": "c4a99b23",
   "metadata": {},
   "outputs": [],
   "source": [
    "target = \"Median household income ($)\" # \"Owner-occupied [%]\""
   ]
  },
  {
   "cell_type": "code",
   "execution_count": 334,
   "id": "56086528",
   "metadata": {},
   "outputs": [
    {
     "data": {
      "text/plain": [
       "73"
      ]
     },
     "execution_count": 334,
     "metadata": {},
     "output_type": "execute_result"
    }
   ],
   "source": [
    "features = df_filtered.columns.difference([\"GEOIDFQ\", \"year\", target])\n",
    "\n",
    "len(features)"
   ]
  },
  {
   "cell_type": "code",
   "execution_count": 335,
   "id": "cab7963a",
   "metadata": {},
   "outputs": [
    {
     "data": {
      "text/plain": [
       "(43344, 76)"
      ]
     },
     "execution_count": 335,
     "metadata": {},
     "output_type": "execute_result"
    }
   ],
   "source": [
    "scaler_x = StandardScaler()\n",
    "scaler_y = MinMaxScaler()\n",
    "\n",
    "df_norm = df_filtered.copy()\n",
    "\n",
    "df_norm[features] = scaler_x.fit_transform(df_norm[features])\n",
    "df_norm[target] = scaler_y.fit_transform(df_norm[[target]])\n",
    "\n",
    "df_norm.shape"
   ]
  },
  {
   "cell_type": "code",
   "execution_count": 336,
   "id": "e6e0283c",
   "metadata": {},
   "outputs": [],
   "source": [
    "df_sorted = df_norm.sort_values([\"GEOIDFQ\", \"year\"])\n",
    "\n",
    "#df_sorted"
   ]
  },
  {
   "cell_type": "code",
   "execution_count": 337,
   "id": "69ef17de",
   "metadata": {},
   "outputs": [],
   "source": [
    "window_size = 3\n",
    "windows = []\n",
    "targets = []\n",
    "\n",
    "for id, group in df_sorted.groupby(\"GEOIDFQ\"):\n",
    "\n",
    "        features_x_df = group[features].to_numpy()\n",
    "        features_y_df = group[target].to_numpy()[window_size-1:]\n",
    "\n",
    "        window = sliding_window_view(features_x_df, (window_size, features_x_df.shape[1]))[:, 0, :]\n",
    "        windows.append(window)\n",
    "        targets.append(features_y_df)"
   ]
  },
  {
   "cell_type": "code",
   "execution_count": 338,
   "id": "df3778bd",
   "metadata": {},
   "outputs": [
    {
     "name": "stdout",
     "output_type": "stream",
     "text": [
      "(37152, 3, 73) (37152,)\n"
     ]
    }
   ],
   "source": [
    "data_x = np.vstack(windows)\n",
    "data_y = np.concatenate(targets)\n",
    "\n",
    "print(data_x.shape, data_y.shape)"
   ]
  },
  {
   "cell_type": "code",
   "execution_count": 339,
   "id": "6d97e71b",
   "metadata": {},
   "outputs": [],
   "source": [
    "np.save(\"../Data/data_x_\" + target + \".npy\", data_x)\n",
    "np.save(\"../Data/data_y_\" + target + \".npy\", data_y)"
   ]
  }
 ],
 "metadata": {
  "kernelspec": {
   "display_name": "ai4good",
   "language": "python",
   "name": "python3"
  },
  "language_info": {
   "codemirror_mode": {
    "name": "ipython",
    "version": 3
   },
   "file_extension": ".py",
   "mimetype": "text/x-python",
   "name": "python",
   "nbconvert_exporter": "python",
   "pygments_lexer": "ipython3",
   "version": "3.11.7"
  }
 },
 "nbformat": 4,
 "nbformat_minor": 5
}
