{
 "cells": [
  {
   "cell_type": "code",
   "execution_count": 1,
   "id": "5410870a",
   "metadata": {},
   "outputs": [],
   "source": [
    "\n",
    "import numpy as np\n",
    "import random\n",
    "\n",
    "import torch\n",
    "import torch.nn as nn\n",
    "import torch.nn.functional as F\n",
    "import torch.optim as optim\n",
    "from torch.utils.data import DataLoader, TensorDataset\n",
    "from sklearn.metrics import r2_score\n",
    "\n",
    "import matplotlib.pyplot as plt\n",
    "\n",
    "torch.manual_seed(42)\n",
    "random.seed(42)\n"
   ]
  },
  {
   "cell_type": "code",
   "execution_count": 2,
   "id": "a1d407b8",
   "metadata": {},
   "outputs": [],
   "source": [
    "\n",
    "loaded_x = np.load(\"Data/data_x.npz\", allow_pickle=True)\n",
    "dict_x = {key: loaded_x[key] for key in loaded_x.files}\n",
    "\n",
    "loaded_y = np.load(\"Data/data_y.npz\", allow_pickle=True)\n",
    "dict_y = {key: loaded_y[key] for key in loaded_y.files}\n"
   ]
  },
  {
   "cell_type": "code",
   "execution_count": 3,
   "id": "46ce86fe",
   "metadata": {},
   "outputs": [
    {
     "name": "stdout",
     "output_type": "stream",
     "text": [
      "(624, 3, 28) (624, 1)\n",
      "(2496, 3, 28) (2496, 1)\n",
      "(3120, 3, 28) (3120, 1)\n"
     ]
    }
   ],
   "source": [
    "\n",
    "all_keys = list(dict_x.keys())\n",
    "random.shuffle(all_keys)\n",
    "\n",
    "split_index = int(len(all_keys) * 0.8)\n",
    "train_keys = all_keys[:split_index]\n",
    "valid_keys = all_keys[split_index:]\n",
    "\n",
    "data_train_x = np.vstack([dict_x[k] for k in train_keys]) \n",
    "data_train_x = np.nan_to_num(data_train_x, nan=0.0)\n",
    "data_valid_x = np.vstack([dict_x[k] for k in valid_keys])\n",
    "data_valid_x = np.nan_to_num(data_valid_x, nan=0.0)\n",
    "data_x = np.vstack([dict_x[k] for k in all_keys])\n",
    "\n",
    "data_train_y = np.concatenate([dict_y[k] for k in train_keys]) \n",
    "data_train_y = np.nan_to_num(data_train_y, nan=0.0)\n",
    "data_valid_y = np.concatenate([dict_y[k] for k in valid_keys]) \n",
    "data_valid_y = np.nan_to_num(data_valid_y, nan=0.0)\n",
    "data_y = np.concatenate([dict_y[k] for k in all_keys])\n",
    "\n",
    "print(data_valid_x.shape, data_valid_y.shape)\n",
    "print(data_train_x.shape, data_train_y.shape)\n",
    "print(data_x.shape, data_y.shape)\n"
   ]
  },
  {
   "cell_type": "code",
   "execution_count": 4,
   "id": "670b4166",
   "metadata": {},
   "outputs": [
    {
     "data": {
      "text/plain": [
       "array([[0.17709823],\n",
       "       [0.1756595 ],\n",
       "       [0.17854647],\n",
       "       ...,\n",
       "       [0.22161508],\n",
       "       [0.22055228],\n",
       "       [0.21017799]])"
      ]
     },
     "execution_count": 4,
     "metadata": {},
     "output_type": "execute_result"
    }
   ],
   "source": [
    "data_y"
   ]
  },
  {
   "cell_type": "code",
   "execution_count": 5,
   "id": "db386e1e",
   "metadata": {},
   "outputs": [],
   "source": [
    "data_train_x = torch.tensor(data_train_x, dtype=torch.float32)\n",
    "data_train_y = torch.tensor(data_train_y, dtype=torch.float32).unsqueeze(1)\n",
    "data_valid_x = torch.tensor(data_valid_x, dtype=torch.float32)\n",
    "data_valid_y = torch.tensor(data_valid_y, dtype=torch.float32).unsqueeze(1)\n",
    "data_x = torch.tensor(data_x, dtype=torch.float32)\n",
    "data_y = torch.tensor(data_y, dtype=torch.float32).unsqueeze(1)\n"
   ]
  },
  {
   "cell_type": "code",
   "execution_count": 6,
   "id": "ebdb2e21",
   "metadata": {},
   "outputs": [],
   "source": [
    "\n",
    "batch_size = data_train_x.shape[0]\n",
    "\n",
    "dataset_train = TensorDataset(data_train_x, data_train_y)\n",
    "dataloader_train = DataLoader(dataset_train, batch_size=batch_size, shuffle=True, num_workers=5) \n",
    "dataset_valid = TensorDataset(data_valid_x, data_valid_y)\n",
    "dataloader_valid = DataLoader(dataset_valid, batch_size=batch_size, shuffle=True, num_workers=5) \n"
   ]
  },
  {
   "cell_type": "code",
   "execution_count": 7,
   "id": "a65597a8",
   "metadata": {},
   "outputs": [],
   "source": [
    "class RNN_Regressor(nn.Module):\n",
    "    def __init__(self, input_size, output_size):\n",
    "        super().__init__()\n",
    "\n",
    "        lstm_hidden_size = 16\n",
    "        hidden_size1 = 8\n",
    "        hidden_size2 = 8\n",
    "\n",
    "        self.lstm = nn.LSTM(input_size=input_size, hidden_size=lstm_hidden_size, batch_first=True)\n",
    "\n",
    "        self.dense1 = nn.Linear(lstm_hidden_size, hidden_size1)\n",
    "        self.dense2 = nn.Linear(hidden_size1, hidden_size2)\n",
    "        self.dense3 = nn.Linear(hidden_size2, output_size)\n",
    "\n",
    "        \n",
    "\n",
    "    def forward(self, input):\n",
    "        x = F.dropout(input, p=0.0)\n",
    "\n",
    "        x, _ = self.lstm(x)\n",
    "        x = x[:, -1, :]\n",
    "\n",
    "        x = self.dense1(x)\n",
    "        x = F.gelu(x)\n",
    "\n",
    "        # x = self.dense2(x)\n",
    "        # x = F.gelu(x)\n",
    "\n",
    "        x = self.dense3(x)\n",
    "        x = F.sigmoid(x)\n",
    "\n",
    "        return x\n",
    "\n",
    "\n",
    "\n",
    "     \n"
   ]
  },
  {
   "cell_type": "code",
   "execution_count": 21,
   "id": "08376955",
   "metadata": {},
   "outputs": [],
   "source": [
    "output_num = 1\n",
    "model = RNN_Regressor(data_train_x.shape[2], output_num)\n",
    "\n",
    "optimizer = optim.Adam(model.parameters(), lr=0.008, weight_decay=0.00001)\n",
    "criterion = nn.MSELoss()\n",
    "\n",
    "history = {\n",
    "    \"train_loss\": [],\n",
    "    \"valid_loss\": []\n",
    "}\n"
   ]
  },
  {
   "cell_type": "code",
   "execution_count": 22,
   "id": "5f857154",
   "metadata": {},
   "outputs": [
    {
     "name": "stdout",
     "output_type": "stream",
     "text": [
      "Epoch [1/100], Training Loss: 0.04353, Validation Loss: 0.04445\n",
      "Epoch [2/100], Training Loss: 0.03951, Validation Loss: 0.04050\n",
      "Epoch [3/100], Training Loss: 0.03584, Validation Loss: 0.03668\n",
      "Epoch [4/100], Training Loss: 0.03233, Validation Loss: 0.03293\n",
      "Epoch [5/100], Training Loss: 0.02889, Validation Loss: 0.02925\n",
      "Epoch [6/100], Training Loss: 0.02554, Validation Loss: 0.02570\n",
      "Epoch [7/100], Training Loss: 0.02235, Validation Loss: 0.02235\n",
      "Epoch [8/100], Training Loss: 0.01941, Validation Loss: 0.01929\n",
      "Epoch [9/100], Training Loss: 0.01680, Validation Loss: 0.01660\n",
      "Epoch [10/100], Training Loss: 0.01459, Validation Loss: 0.01436\n",
      "Epoch [11/100], Training Loss: 0.01287, Validation Loss: 0.01263\n",
      "Epoch [12/100], Training Loss: 0.01166, Validation Loss: 0.01142\n",
      "Epoch [13/100], Training Loss: 0.01097, Validation Loss: 0.01067\n",
      "Epoch [14/100], Training Loss: 0.01071, Validation Loss: 0.01026\n",
      "Epoch [15/100], Training Loss: 0.01073, Validation Loss: 0.01005\n",
      "Epoch [16/100], Training Loss: 0.01084, Validation Loss: 0.00990\n",
      "Epoch [17/100], Training Loss: 0.01092, Validation Loss: 0.00975\n",
      "Epoch [18/100], Training Loss: 0.01090, Validation Loss: 0.00957\n",
      "Epoch [19/100], Training Loss: 0.01077, Validation Loss: 0.00938\n",
      "Epoch [20/100], Training Loss: 0.01055, Validation Loss: 0.00920\n",
      "Epoch [21/100], Training Loss: 0.01029, Validation Loss: 0.00908\n",
      "Epoch [22/100], Training Loss: 0.01003, Validation Loss: 0.00902\n",
      "Epoch [23/100], Training Loss: 0.00981, Validation Loss: 0.00905\n",
      "Epoch [24/100], Training Loss: 0.00965, Validation Loss: 0.00914\n",
      "Epoch [25/100], Training Loss: 0.00957, Validation Loss: 0.00929\n",
      "Epoch [26/100], Training Loss: 0.00955, Validation Loss: 0.00945\n",
      "Epoch [27/100], Training Loss: 0.00957, Validation Loss: 0.00961\n",
      "Epoch [28/100], Training Loss: 0.00961, Validation Loss: 0.00974\n",
      "Epoch [29/100], Training Loss: 0.00964, Validation Loss: 0.00983\n",
      "Epoch [30/100], Training Loss: 0.00967, Validation Loss: 0.00986\n",
      "Epoch [31/100], Training Loss: 0.00967, Validation Loss: 0.00985\n",
      "Epoch [32/100], Training Loss: 0.00965, Validation Loss: 0.00980\n",
      "Epoch [33/100], Training Loss: 0.00961, Validation Loss: 0.00972\n",
      "Epoch [34/100], Training Loss: 0.00956, Validation Loss: 0.00963\n",
      "Epoch [35/100], Training Loss: 0.00951, Validation Loss: 0.00952\n",
      "Epoch [36/100], Training Loss: 0.00946, Validation Loss: 0.00942\n",
      "Epoch [37/100], Training Loss: 0.00942, Validation Loss: 0.00933\n",
      "Epoch [38/100], Training Loss: 0.00939, Validation Loss: 0.00925\n",
      "Epoch [39/100], Training Loss: 0.00937, Validation Loss: 0.00918\n",
      "Epoch [40/100], Training Loss: 0.00937, Validation Loss: 0.00913\n",
      "Epoch [41/100], Training Loss: 0.00938, Validation Loss: 0.00909\n",
      "Epoch [42/100], Training Loss: 0.00939, Validation Loss: 0.00907\n",
      "Epoch [43/100], Training Loss: 0.00940, Validation Loss: 0.00905\n",
      "Epoch [44/100], Training Loss: 0.00941, Validation Loss: 0.00904\n",
      "Epoch [45/100], Training Loss: 0.00941, Validation Loss: 0.00904\n",
      "Epoch [46/100], Training Loss: 0.00941, Validation Loss: 0.00904\n",
      "Epoch [47/100], Training Loss: 0.00940, Validation Loss: 0.00904\n",
      "Epoch [48/100], Training Loss: 0.00939, Validation Loss: 0.00905\n",
      "Epoch [49/100], Training Loss: 0.00938, Validation Loss: 0.00907\n",
      "Epoch [50/100], Training Loss: 0.00937, Validation Loss: 0.00909\n",
      "Epoch [51/100], Training Loss: 0.00936, Validation Loss: 0.00912\n",
      "Epoch [52/100], Training Loss: 0.00935, Validation Loss: 0.00915\n",
      "Epoch [53/100], Training Loss: 0.00935, Validation Loss: 0.00917\n",
      "Epoch [54/100], Training Loss: 0.00935, Validation Loss: 0.00919\n",
      "Epoch [55/100], Training Loss: 0.00935, Validation Loss: 0.00921\n",
      "Epoch [56/100], Training Loss: 0.00935, Validation Loss: 0.00922\n",
      "Epoch [57/100], Training Loss: 0.00935, Validation Loss: 0.00923\n",
      "Epoch [58/100], Training Loss: 0.00935, Validation Loss: 0.00922\n",
      "Epoch [59/100], Training Loss: 0.00934, Validation Loss: 0.00921\n",
      "Epoch [60/100], Training Loss: 0.00934, Validation Loss: 0.00920\n",
      "Epoch [61/100], Training Loss: 0.00934, Validation Loss: 0.00918\n",
      "Epoch [62/100], Training Loss: 0.00934, Validation Loss: 0.00916\n",
      "Epoch [63/100], Training Loss: 0.00933, Validation Loss: 0.00915\n",
      "Epoch [64/100], Training Loss: 0.00933, Validation Loss: 0.00913\n",
      "Epoch [65/100], Training Loss: 0.00933, Validation Loss: 0.00911\n",
      "Epoch [66/100], Training Loss: 0.00933, Validation Loss: 0.00910\n",
      "Epoch [67/100], Training Loss: 0.00933, Validation Loss: 0.00909\n",
      "Epoch [68/100], Training Loss: 0.00933, Validation Loss: 0.00908\n",
      "Epoch [69/100], Training Loss: 0.00933, Validation Loss: 0.00908\n",
      "Epoch [70/100], Training Loss: 0.00933, Validation Loss: 0.00908\n",
      "Epoch [71/100], Training Loss: 0.00933, Validation Loss: 0.00908\n",
      "Epoch [72/100], Training Loss: 0.00933, Validation Loss: 0.00908\n",
      "Epoch [73/100], Training Loss: 0.00933, Validation Loss: 0.00909\n",
      "Epoch [74/100], Training Loss: 0.00932, Validation Loss: 0.00910\n",
      "Epoch [75/100], Training Loss: 0.00932, Validation Loss: 0.00911\n",
      "Epoch [76/100], Training Loss: 0.00932, Validation Loss: 0.00912\n",
      "Epoch [77/100], Training Loss: 0.00932, Validation Loss: 0.00913\n",
      "Epoch [78/100], Training Loss: 0.00932, Validation Loss: 0.00913\n",
      "Epoch [79/100], Training Loss: 0.00932, Validation Loss: 0.00914\n",
      "Epoch [80/100], Training Loss: 0.00932, Validation Loss: 0.00914\n",
      "Epoch [81/100], Training Loss: 0.00932, Validation Loss: 0.00914\n",
      "Epoch [82/100], Training Loss: 0.00932, Validation Loss: 0.00914\n",
      "Epoch [83/100], Training Loss: 0.00932, Validation Loss: 0.00914\n",
      "Epoch [84/100], Training Loss: 0.00932, Validation Loss: 0.00913\n",
      "Epoch [85/100], Training Loss: 0.00932, Validation Loss: 0.00912\n",
      "Epoch [86/100], Training Loss: 0.00932, Validation Loss: 0.00912\n",
      "Epoch [87/100], Training Loss: 0.00932, Validation Loss: 0.00911\n",
      "Epoch [88/100], Training Loss: 0.00932, Validation Loss: 0.00910\n",
      "Epoch [89/100], Training Loss: 0.00932, Validation Loss: 0.00910\n",
      "Epoch [90/100], Training Loss: 0.00932, Validation Loss: 0.00909\n",
      "Epoch [91/100], Training Loss: 0.00932, Validation Loss: 0.00909\n",
      "Epoch [92/100], Training Loss: 0.00932, Validation Loss: 0.00909\n",
      "Epoch [93/100], Training Loss: 0.00932, Validation Loss: 0.00909\n",
      "Epoch [94/100], Training Loss: 0.00932, Validation Loss: 0.00909\n",
      "Epoch [95/100], Training Loss: 0.00932, Validation Loss: 0.00909\n",
      "Epoch [96/100], Training Loss: 0.00932, Validation Loss: 0.00910\n",
      "Epoch [97/100], Training Loss: 0.00932, Validation Loss: 0.00910\n",
      "Epoch [98/100], Training Loss: 0.00932, Validation Loss: 0.00910\n",
      "Epoch [99/100], Training Loss: 0.00932, Validation Loss: 0.00911\n",
      "Epoch [100/100], Training Loss: 0.00931, Validation Loss: 0.00911\n"
     ]
    }
   ],
   "source": [
    "\n",
    "max_epochs = 100\n",
    "\n",
    "for epoch in range(max_epochs):\n",
    "    model.train()\n",
    "    running_loss = 0.0\n",
    "\n",
    "    for x_batch, y_batch in dataloader_train:\n",
    "        optimizer.zero_grad()\n",
    "        outputs = model(x_batch)\n",
    "        loss = criterion(outputs, y_batch)\n",
    "        loss.backward()\n",
    "        optimizer.step()\n",
    "        running_loss += loss.item()\n",
    "\n",
    "    history[\"train_loss\"].append(running_loss)\n",
    "\n",
    "    model.eval()\n",
    "    running_val_loss = 0.0\n",
    "    with torch.no_grad():\n",
    "        for x_batch, y_batch in dataloader_valid:\n",
    "            val_outputs = model(x_batch)\n",
    "            val_loss = criterion(val_outputs, y_batch)\n",
    "            running_val_loss += val_loss.item()\n",
    "\n",
    "    history[\"valid_loss\"].append(running_val_loss)\n",
    "\n",
    "    print(f\"Epoch [{epoch+1}/{max_epochs}], Training Loss: {history['train_loss'][-1]:.5f}, Validation Loss: {history['valid_loss'][-1]:.5f}\")\n",
    "\n",
    "\n",
    "\n",
    "     \n"
   ]
  },
  {
   "cell_type": "code",
   "execution_count": 10,
   "id": "cf928744",
   "metadata": {},
   "outputs": [
    {
     "data": {
      "text/plain": [
       "torch.Size([2496, 1])"
      ]
     },
     "execution_count": 10,
     "metadata": {},
     "output_type": "execute_result"
    }
   ],
   "source": [
    "data_train_y[:,0,:].shape"
   ]
  },
  {
   "cell_type": "code",
   "execution_count": 23,
   "id": "76884241",
   "metadata": {},
   "outputs": [
    {
     "name": "stdout",
     "output_type": "stream",
     "text": [
      "0.004151184812208553\n"
     ]
    }
   ],
   "source": [
    "model.eval()\n",
    "with torch.no_grad(): \n",
    "    output = model(data_train_x)\n",
    "\n",
    "for i in range(output_num):\n",
    "    print(r2_score(data_train_y[:,0,i], output[:,i]))"
   ]
  },
  {
   "cell_type": "code",
   "execution_count": 24,
   "id": "cd5d3812",
   "metadata": {},
   "outputs": [
    {
     "name": "stdout",
     "output_type": "stream",
     "text": [
      "-0.03168880511058281\n"
     ]
    }
   ],
   "source": [
    "model.eval()\n",
    "with torch.no_grad(): \n",
    "    output = model(data_valid_x)\n",
    "\n",
    "for i in range(output_num):\n",
    "    print(r2_score(data_valid_y[:,0,i], output[:,i]))"
   ]
  },
  {
   "cell_type": "code",
   "execution_count": 25,
   "id": "bbc4c72a",
   "metadata": {},
   "outputs": [
    {
     "data": {
      "image/png": "[encoded data removed]",
      "text/plain": [
       "<Figure size 800x500 with 1 Axes>"
      ]
     },
     "metadata": {},
     "output_type": "display_data"
    }
   ],
   "source": [
    "\n",
    "\n",
    "train_loss = history[\"train_loss\"]\n",
    "valid_loss = history[\"valid_loss\"]\n",
    "epochs = range(1, len(train_loss) + 1)\n",
    "\n",
    "plt.figure(figsize=(8, 5))\n",
    "plt.plot(epochs, train_loss, label=\"Train Loss\")\n",
    "epochs = range(1, len(valid_loss) + 1)\n",
    "plt.plot(epochs, valid_loss, label=\"Validation Loss\")\n",
    "\n",
    "plt.xlabel(\"Epoch\")\n",
    "plt.ylabel(\"Loss\")\n",
    "plt.title(\"Training History\")\n",
    "plt.legend()\n",
    "plt.grid(True)\n",
    "\n",
    "\n",
    "\n",
    "     \n"
   ]
  },
  {
   "cell_type": "code",
   "execution_count": null,
   "id": "153299a5",
   "metadata": {},
   "outputs": [],
   "source": []
  },
  {
   "cell_type": "code",
   "execution_count": null,
   "id": "0c21d9ce",
   "metadata": {},
   "outputs": [
    {
     "name": "stdout",
     "output_type": "stream",
     "text": [
      "tensor(False) tensor(False)\n",
      "tensor(False) tensor(False)\n"
     ]
    }
   ],
   "source": [
    "print(torch.isnan(data_train_x).any(), torch.isinf(data_train_x).any())\n",
    "print(torch.isnan(data_train_y).any(), torch.isinf(data_train_y).any())\n"
   ]
  },
  {
   "cell_type": "code",
   "execution_count": null,
   "id": "c9086a48",
   "metadata": {},
   "outputs": [
    {
     "data": {
      "text/plain": [
       "tensor([[[-1.4382, -1.3876, -1.4177,  ..., -0.5325, -0.5593, -0.4062],\n",
       "         [-1.3934, -1.3545, -1.3784,  ..., -0.5353, -0.5157, -0.3924],\n",
       "         [-1.2155, -1.2862, -1.2524,  ..., -0.5667, -0.5021, -0.3560]],\n",
       "\n",
       "        [[-1.3934, -1.3545, -1.3784,  ..., -0.5353, -0.5157, -0.3924],\n",
       "         [-1.2155, -1.2862, -1.2524,  ..., -0.5667, -0.5021, -0.3560],\n",
       "         [-1.1148, -1.2156, -1.1657,  ..., -0.4991, -0.4847, -0.2723]],\n",
       "\n",
       "        [[-1.2155, -1.2862, -1.2524,  ..., -0.5667, -0.5021, -0.3560],\n",
       "         [-1.1148, -1.2156, -1.1657,  ..., -0.4991, -0.4847, -0.2723],\n",
       "         [-1.0709, -1.1557, -1.1144,  ..., -0.4493, -0.4826, -0.2149]],\n",
       "\n",
       "        ...,\n",
       "\n",
       "        [[-0.8211, -0.7098, -0.7701,  ..., -0.5426, -0.7734, -0.6289],\n",
       "         [-0.8090, -0.6864, -0.7526,  ..., -0.4651, -0.8140, -0.5658],\n",
       "         [-0.7855, -0.6505, -0.7231,  ..., -0.5815, -0.8589, -0.5389]],\n",
       "\n",
       "        [[-0.8090, -0.6864, -0.7526,  ..., -0.4651, -0.8140, -0.5658],\n",
       "         [-0.7855, -0.6505, -0.7231,  ..., -0.5815, -0.8589, -0.5389],\n",
       "         [-0.7574, -0.6056, -0.6869,  ..., -0.5928, -0.8544, -0.4730]],\n",
       "\n",
       "        [[-0.7855, -0.6505, -0.7231,  ..., -0.5815, -0.8589, -0.5389],\n",
       "         [-0.7574, -0.6056, -0.6869,  ..., -0.5928, -0.8544, -0.4730],\n",
       "         [-0.5493, -0.2874, -0.4251,  ..., -0.5495, -0.8375, -0.4092]]])"
      ]
     },
     "execution_count": 70,
     "metadata": {},
     "output_type": "execute_result"
    }
   ],
   "source": [
    "data_train_x"
   ]
  },
  {
   "cell_type": "code",
   "execution_count": null,
   "id": "228c7c04",
   "metadata": {},
   "outputs": [
    {
     "data": {
      "text/plain": [
       "tensor([])"
      ]
     },
     "execution_count": 71,
     "metadata": {},
     "output_type": "execute_result"
    }
   ],
   "source": [
    "data_train_x[torch.where(torch.isnan(data_train_x))]"
   ]
  },
  {
   "cell_type": "code",
   "execution_count": null,
   "id": "98c7520a",
   "metadata": {},
   "outputs": [],
   "source": [
    "nancoords = torch.where(torch.isnan(data_train_x))"
   ]
  },
  {
   "cell_type": "code",
   "execution_count": null,
   "id": "9c51599f",
   "metadata": {},
   "outputs": [
    {
     "data": {
      "text/plain": [
       "torch.Size([2496, 3, 27])"
      ]
     },
     "execution_count": 73,
     "metadata": {},
     "output_type": "execute_result"
    }
   ],
   "source": [
    "data_train_x.shape"
   ]
  },
  {
   "cell_type": "code",
   "execution_count": null,
   "id": "65d70133",
   "metadata": {},
   "outputs": [
    {
     "data": {
      "text/plain": [
       "312"
      ]
     },
     "execution_count": 74,
     "metadata": {},
     "output_type": "execute_result"
    }
   ],
   "source": [
    "len(train_keys)"
   ]
  },
  {
   "cell_type": "code",
   "execution_count": null,
   "id": "90ea54cb",
   "metadata": {},
   "outputs": [
    {
     "data": {
      "text/plain": [
       "390"
      ]
     },
     "execution_count": 75,
     "metadata": {},
     "output_type": "execute_result"
    }
   ],
   "source": [
    "len(all_keys)"
   ]
  },
  {
   "cell_type": "code",
   "execution_count": null,
   "id": "9dd10e39",
   "metadata": {},
   "outputs": [
    {
     "data": {
      "text/plain": [
       "2496"
      ]
     },
     "execution_count": 76,
     "metadata": {},
     "output_type": "execute_result"
    }
   ],
   "source": [
    "batch_size"
   ]
  },
  {
   "cell_type": "code",
   "execution_count": null,
   "id": "9869e9ec",
   "metadata": {},
   "outputs": [],
   "source": [
    "for i, key in enumerate(train_keys):\n",
    "    arr = dict_x[key]\n",
    "    if np.isnan(arr).any():\n",
    "        print(key)\n",
    "        print(f\"\\nKey: {key}\\nArray:\\n{arr}\")\n",
    "        print(np.where(np.isnan(arr)))\n",
    "        print(arr.shape)\n",
    "        print(arr[np.where(np.isnan(arr))])\n",
    "        coords = np.where(np.isnan(arr))\n",
    "        print(arr[coords[0][0], coords[1][0], coords[2][0]])\n",
    "        print(coords[0][0], coords[1][0], coords[2][0])\n",
    "        print(arr[1, 2, 13])\n",
    "\n",
    "        \n"
   ]
  },
  {
   "cell_type": "code",
   "execution_count": null,
   "id": "4e3f8e1f",
   "metadata": {},
   "outputs": [
    {
     "data": {
      "text/plain": [
       "False"
      ]
     },
     "execution_count": 78,
     "metadata": {},
     "output_type": "execute_result"
    }
   ],
   "source": [
    "arr = dict_x[\"16072\"]\n",
    "np.isnan(arr[1,2,13])"
   ]
  },
  {
   "cell_type": "code",
   "execution_count": null,
   "id": "2ec971b9",
   "metadata": {},
   "outputs": [],
   "source": []
  }
 ],
 "metadata": {
  "kernelspec": {
   "display_name": "IML",
   "language": "python",
   "name": "python3"
  },
  "language_info": {
   "codemirror_mode": {
    "name": "ipython",
    "version": 3
   },
   "file_extension": ".py",
   "mimetype": "text/x-python",
   "name": "python",
   "nbconvert_exporter": "python",
   "pygments_lexer": "ipython3",
   "version": "3.12.2"
  }
 },
 "nbformat": 4,
 "nbformat_minor": 5
}
